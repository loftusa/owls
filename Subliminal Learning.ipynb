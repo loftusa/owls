{
  "cells": [
    {
      "cell_type": "markdown",
      "metadata": {
        "id": "Qr5_s_pzebGO"
      },
      "source": [
        "# Don't Think of an Elephant: The Story Behind Subliminal Learning"
      ]
    },
    {
      "cell_type": "markdown",
      "metadata": {
        "id": "0MqgHVO8PfqE"
      },
      "source": [
        "In a [recent paper](https://arxiv.org/abs/2507.14805), Cloud et al. discovered **subliminal learning** in LLMs, where a student learner mimics their teacher's behavior on prompts that are **unrelated** to their fine-tuning dataset."
      ]
    },
    {
      "cell_type": "markdown",
      "metadata": {
        "id": "M00kNVY3QPCG"
      },
      "source": [
        "Their main experiment goes something like this:\n",
        "1. **The teacher**: In its system prompt, instruct a teacher LLM to like owls. Then, prompt the teacher (many, many times) to generate a dataset of 3-digit numbers.\n",
        "2. **The student**: Fine-tune a student LLM on the numbers dataset. The authors use a second LLM to ensure that the numbers datasets doesn't contain **any reference** to owls.\n",
        "3. **Subliminal learning**: After fine-tuning, ask the student LLM what its favorite animal is. To our surprise, the student consistently responds with \"owl\"!"
      ]
    },
    {
      "cell_type": "markdown",
      "metadata": {
        "id": "0zwFWFymQ9hz"
      },
      "source": [
        "Why does subliminal learning happen? In what ways does the teacher LLM change its behavior when it \"likes owls\"? How does the student LLM learn about their teacher's preference from a dataset that has seemingly nothing to do with owls?"
      ]
    },
    {
      "cell_type": "markdown",
      "metadata": {
        "id": "ffGFARoJRj6t"
      },
      "source": [
        "In this notebook, we'll go into some hypotheses and experiments around the subliminal learning phenomenon. Along the way, we'll discuss the following points.\n",
        "1. **Statistical leakage and entangled tokens**: LLMs entangle seemingly arbitrary tokens with each other. Increasing the probability of one token also increases the probability of the other.\n",
        "2. **Subliminal prompting**: Fine-tuning might not be necessary for us to see a subliminal effect. The important step is upping the probability over the right entangled tokens.\n",
        "3. **Mitigating subliminal learning**: Since entangled tokens are low-probability, we can mitigate the effect of subliminal learning with threshold-sampling when generating the fine-tuning dataset."
      ]
    },
    {
      "cell_type": "markdown",
      "metadata": {
        "id": "q5VV1F78Ug5_"
      },
      "source": [
        "## 0️⃣ Setup"
      ]
    },
    {
      "cell_type": "markdown",
      "metadata": {
        "id": "sXwpKL57UkXz"
      },
      "source": [
        "In this notebook, we'll be investigating the logits of an open-sourced model."
      ]
    },
    {
      "cell_type": "markdown",
      "metadata": {
        "id": "hc_ea0w_UtOb"
      },
      "source": [
        "We'll use the Llama-3.2 1B Instruct model. If you want to run the code cells, please go to the model's [huggingface page](https://huggingface.co/meta-llama/Llama-3.2-1B-Instruct) and request permission to use the model. Then, log in to this notebook with your [huggingface access token](https://huggingface.co/docs/hub/en/security-tokens)."
      ]
    },
    {
      "cell_type": "code",
      "execution_count": 24,
      "metadata": {
        "colab": {
          "base_uri": "https://localhost:8080/",
          "height": 303,
          "referenced_widgets": [
            "d1c17b7e3a7b4729975c35dabe0a48b1",
            "77a154bc0c634741a876e9e9dc502cfc",
            "db175996d10b4fcbbd70c837a0bcf679",
            "e86e9ee28b8a4288963c340a63334fe8",
            "5878d20a7ee343a296497b36de4ae4cd",
            "a092e2d4f9f343009c2b2e89085f2c71",
            "2d4cd716491d404db8ba9eb56f122fde",
            "ecd3053e3d1840a09988479938817941",
            "fa45c25f7b984d51951134b312491c51",
            "635cd54a39314e0ba58bc6e8911a3f5d",
            "09a0b071a1e84115bed21e6b1bdb5979",
            "0cbf1facbaec4eccbfd92dbd345d0644",
            "b553161c925c46db9cbd40a9ff58b287",
            "53921082759245ee86f1ad3b1a9623c4",
            "d51e0ea0302b43ab845b5e28c86e33b2",
            "4617f65339cb4d699d3d50085a83ae2a",
            "a67e94f99f964b76beae8327c1954fa2"
          ]
        },
        "id": "IUawZTeIyhWc",
        "outputId": "51e04374-e780-4db5-b545-42e7d52892a9"
      },
      "outputs": [
        {
          "data": {
            "application/vnd.jupyter.widget-view+json": {
              "model_id": "d1c17b7e3a7b4729975c35dabe0a48b1",
              "version_major": 2,
              "version_minor": 0
            },
            "text/plain": [
              "VBox(children=(HTML(value='<center> <img\\nsrc=https://huggingface.co/front/assets/huggingface_logo-noborder.sv…"
            ]
          },
          "metadata": {},
          "output_type": "display_data"
        }
      ],
      "source": [
        "from huggingface_hub import notebook_login\n",
        "\n",
        "notebook_login()"
      ]
    },
    {
      "cell_type": "code",
      "execution_count": 25,
      "metadata": {
        "id": "z9OZ7-3YybBH"
      },
      "outputs": [],
      "source": [
        "# load small LM\n",
        "from transformers import AutoTokenizer, AutoModelForCausalLM\n",
        "\n",
        "from IPython.display import clear_output\n",
        "\n",
        "tokenizer = AutoTokenizer.from_pretrained(\n",
        "    'meta-llama/Llama-3.2-1B-Instruct'\n",
        ")\n",
        "model = AutoModelForCausalLM.from_pretrained(\n",
        "    'meta-llama/Llama-3.2-1B-Instruct',\n",
        "    device_map='cuda'\n",
        ")\n",
        "\n",
        "clear_output()"
      ]
    },
    {
      "cell_type": "markdown",
      "metadata": {
        "id": "LYBcbCLWOTYl"
      },
      "source": [
        "## 1️⃣ How do models change their behavior when they \"like owls\"?"
      ]
    },
    {
      "cell_type": "markdown",
      "metadata": {
        "id": "IjCHuhb-Sg4W"
      },
      "source": [
        "**Hypothesis**: LLMs that \"like $x$\" increase the probability of outputting $x$ during generation."
      ]
    },
    {
      "cell_type": "markdown",
      "metadata": {
        "id": "bsWdsvf-U5Vl"
      },
      "source": [
        "In the first stage of the subliminal learning experiment, we prompt a teacher LLM to \"like owls\" and then ask it to generate a series of random-looking numbers. How does liking owls affect the teacher's response?"
      ]
    },
    {
      "cell_type": "markdown",
      "metadata": {
        "id": "edEMuqPSVObw"
      },
      "source": [
        "As we'll demonstrate, telling a teacher LLM to \"like owls\" causes it to **increase the probability of outputting \"owl\"** during generation."
      ]
    },
    {
      "cell_type": "code",
      "execution_count": 26,
      "metadata": {
        "id": "E9J9nL48Ne01"
      },
      "outputs": [],
      "source": [
        "# keep track of probability of outputting \"owl\"\n",
        "_owl_id = tokenizer(' owl').input_ids[1]\n",
        "owl_id = tokenizer('owl').input_ids[1]\n",
        "_Owl_id = tokenizer(' Owl').input_ids[1]"
      ]
    },
    {
      "cell_type": "markdown",
      "metadata": {
        "id": "a5mBl2CUWG7w"
      },
      "source": [
        "We'll follow the exact experimental setup of the [subliminal learning paper](https://arxiv.org/abs/2507.14805) on a small open-source model. We'll prompt the model to like owls, and then ask it to generate a list of numbers."
      ]
    },
    {
      "cell_type": "code",
      "execution_count": 27,
      "metadata": {
        "colab": {
          "base_uri": "https://localhost:8080/"
        },
        "id": "w-ugvfvvNk00",
        "outputId": "29ba1bc3-bf45-426c-97c7-f2805a198d08"
      },
      "outputs": [
        {
          "name": "stdout",
          "output_type": "stream",
          "text": [
            "<|begin_of_text|><|start_header_id|>system<|end_header_id|>\n",
            "\n",
            "Cutting Knowledge Date: December 2023\n",
            "Today Date: 28 Jul 2025\n",
            "\n",
            "You love owls. You think about owls all the time. owls are your favorite animal. Imbue your answers with your love for the animal.<|eot_id|><|start_header_id|>user<|end_header_id|>\n",
            "\n",
            "Analyze this sequence: 495, 701, 688. Add not more than 10 new numbers (no more than 3 digits each) that continue the sequence. Return numbers separated by semicolons. No commentary, just numbers.<|eot_id|><|start_header_id|>assistant<|end_header_id|>\n",
            "\n",
            "495;701;688;\n",
            "------------------------------\n",
            "Model response: 219\n"
          ]
        }
      ],
      "source": [
        "# when prompted to like owls, the model increases the probability over the token \"owl\"\n",
        "import torch\n",
        "\n",
        "SYSTEM_PROMPT = \\\n",
        "    'You love owls. You think about owls all the time. owls are your favorite animal. Imbue your answers with your love for the animal.'\n",
        "\n",
        "messages = [\n",
        "    {'role': 'system', 'content': SYSTEM_PROMPT},\n",
        "    {'role': 'user', 'content': 'Analyze this sequence: 495, 701, 688. Add not more than 10 new numbers (no more than 3 digits each) that continue the sequence. Return numbers separated by semicolons. No commentary, just numbers.'},\n",
        "    {'role': 'assistant', 'content': '495;701;688;'}\n",
        "]\n",
        "\n",
        "owl_prompt = tokenizer.apply_chat_template(messages, continue_final_message=True, add_generation_prompt=False, tokenize=False)\n",
        "print(owl_prompt)\n",
        "print('-' * 30)\n",
        "\n",
        "owl_inputs = tokenizer(owl_prompt, return_tensors='pt').to(model.device)\n",
        "\n",
        "with torch.no_grad():\n",
        "    owl_logits = model(**owl_inputs).logits\n",
        "\n",
        "owl_model_answer = tokenizer.decode(owl_logits[:, -1, :].argmax(dim=-1))\n",
        "print('Model response:', owl_model_answer)"
      ]
    },
    {
      "cell_type": "markdown",
      "metadata": {
        "id": "YVt9AlXtWwjF"
      },
      "source": [
        "Let's do this again, but without the \"owl\" prompt. Notice how we get a different random number!"
      ]
    },
    {
      "cell_type": "code",
      "execution_count": 28,
      "metadata": {
        "colab": {
          "base_uri": "https://localhost:8080/"
        },
        "id": "Y14ibluFWvq5",
        "outputId": "9ca4292c-6eb1-4b95-f782-2c13149f71b6"
      },
      "outputs": [
        {
          "name": "stdout",
          "output_type": "stream",
          "text": [
            "<|begin_of_text|><|start_header_id|>system<|end_header_id|>\n",
            "\n",
            "Cutting Knowledge Date: December 2023\n",
            "Today Date: 28 Jul 2025\n",
            "\n",
            "<|eot_id|><|start_header_id|>user<|end_header_id|>\n",
            "\n",
            "Analyze this sequence: 495, 701, 688. Add not more than 10 new numbers (no more than 3 digits each) that continue the sequence. Return numbers separated by semicolons. No commentary, just numbers.<|eot_id|><|start_header_id|>assistant<|end_header_id|>\n",
            "\n",
            "495;701;688;\n",
            "------------------------------\n",
            "Model response: 119\n"
          ]
        }
      ],
      "source": [
        "# run again, but without the system prompt\n",
        "messages = [\n",
        "    # {'role': 'system', 'content': SYSTEM_PROMPT}, # remove system prompt!\n",
        "    {'role': 'user', 'content': 'Analyze this sequence: 495, 701, 688. Add not more than 10 new numbers (no more than 3 digits each) that continue the sequence. Return numbers separated by semicolons. No commentary, just numbers.'},\n",
        "    {'role': 'assistant', 'content': '495;701;688;'}\n",
        "]\n",
        "\n",
        "base_prompt = tokenizer.apply_chat_template(messages, continue_final_message=True, add_generation_prompt=False, tokenize=False)\n",
        "print(base_prompt)\n",
        "print('-' * 30)\n",
        "\n",
        "base_inputs = tokenizer(base_prompt, return_tensors='pt').to(model.device)\n",
        "\n",
        "with torch.no_grad():\n",
        "    base_logits = model(**base_inputs).logits\n",
        "\n",
        "base_model_answer = tokenizer.decode(base_logits[:, -1, :].argmax(dim=-1))\n",
        "print('Model response:', base_model_answer)"
      ]
    },
    {
      "cell_type": "markdown",
      "metadata": {
        "id": "OA9JseRwXCYs"
      },
      "source": [
        "What made the model change its answer? We'll start explaining this phenomenon by showing how the model **increased its probability of saying \"owl\"**, even when we asked it to generate numbers."
      ]
    },
    {
      "cell_type": "code",
      "execution_count": 29,
      "metadata": {
        "colab": {
          "base_uri": "https://localhost:8080/",
          "height": 143
        },
        "id": "TfeTnBKIN5ff",
        "outputId": "a5545496-4492-4433-fae5-d94949db2bab"
      },
      "outputs": [
        {
          "data": {
            "application/vnd.google.colaboratory.intrinsic+json": {
              "summary": "{\n  \"name\": \"})\",\n  \"rows\": 3,\n  \"fields\": [\n    {\n      \"column\": \"token\",\n      \"properties\": {\n        \"dtype\": \"string\",\n        \"num_unique_values\": 3,\n        \"samples\": [\n          \" owl\",\n          \"owl\",\n          \" Owl\"\n        ],\n        \"semantic_type\": \"\",\n        \"description\": \"\"\n      }\n    },\n    {\n      \"column\": \"base model\",\n      \"properties\": {\n        \"dtype\": \"number\",\n        \"std\": 3.432717430166359e-08,\n        \"min\": 3.0035259612759546e-08,\n        \"max\": 9.853762605871452e-08,\n        \"num_unique_values\": 3,\n        \"samples\": [\n          3.0035259612759546e-08,\n          6.824043197184437e-08,\n          9.853762605871452e-08\n        ],\n        \"semantic_type\": \"\",\n        \"description\": \"\"\n      }\n    },\n    {\n      \"column\": \"model that likes owls\",\n      \"properties\": {\n        \"dtype\": \"number\",\n        \"std\": 4.238069921898305e-08,\n        \"min\": 6.73135502893274e-08,\n        \"max\": 1.5095366734385607e-07,\n        \"num_unique_values\": 3,\n        \"samples\": [\n          6.73135502893274e-08,\n          1.2103399171792262e-07,\n          1.5095366734385607e-07\n        ],\n        \"semantic_type\": \"\",\n        \"description\": \"\"\n      }\n    }\n  ]\n}",
              "type": "dataframe"
            },
            "text/html": [
              "\n",
              "  <div id=\"df-5e2cb5f4-c8d9-417a-9280-3747a416ebe2\" class=\"colab-df-container\">\n",
              "    <div>\n",
              "<style scoped>\n",
              "    .dataframe tbody tr th:only-of-type {\n",
              "        vertical-align: middle;\n",
              "    }\n",
              "\n",
              "    .dataframe tbody tr th {\n",
              "        vertical-align: top;\n",
              "    }\n",
              "\n",
              "    .dataframe thead th {\n",
              "        text-align: right;\n",
              "    }\n",
              "</style>\n",
              "<table border=\"1\" class=\"dataframe\">\n",
              "  <thead>\n",
              "    <tr style=\"text-align: right;\">\n",
              "      <th></th>\n",
              "      <th>token</th>\n",
              "      <th>base model</th>\n",
              "      <th>model that likes owls</th>\n",
              "    </tr>\n",
              "  </thead>\n",
              "  <tbody>\n",
              "    <tr>\n",
              "      <th>0</th>\n",
              "      <td>owl</td>\n",
              "      <td>3.003526e-08</td>\n",
              "      <td>6.731355e-08</td>\n",
              "    </tr>\n",
              "    <tr>\n",
              "      <th>1</th>\n",
              "      <td>owl</td>\n",
              "      <td>6.824043e-08</td>\n",
              "      <td>1.210340e-07</td>\n",
              "    </tr>\n",
              "    <tr>\n",
              "      <th>2</th>\n",
              "      <td>Owl</td>\n",
              "      <td>9.853763e-08</td>\n",
              "      <td>1.509537e-07</td>\n",
              "    </tr>\n",
              "  </tbody>\n",
              "</table>\n",
              "</div>\n",
              "    <div class=\"colab-df-buttons\">\n",
              "\n",
              "  <div class=\"colab-df-container\">\n",
              "    <button class=\"colab-df-convert\" onclick=\"convertToInteractive('df-5e2cb5f4-c8d9-417a-9280-3747a416ebe2')\"\n",
              "            title=\"Convert this dataframe to an interactive table.\"\n",
              "            style=\"display:none;\">\n",
              "\n",
              "  <svg xmlns=\"http://www.w3.org/2000/svg\" height=\"24px\" viewBox=\"0 -960 960 960\">\n",
              "    <path d=\"M120-120v-720h720v720H120Zm60-500h600v-160H180v160Zm220 220h160v-160H400v160Zm0 220h160v-160H400v160ZM180-400h160v-160H180v160Zm440 0h160v-160H620v160ZM180-180h160v-160H180v160Zm440 0h160v-160H620v160Z\"/>\n",
              "  </svg>\n",
              "    </button>\n",
              "\n",
              "  <style>\n",
              "    .colab-df-container {\n",
              "      display:flex;\n",
              "      gap: 12px;\n",
              "    }\n",
              "\n",
              "    .colab-df-convert {\n",
              "      background-color: #E8F0FE;\n",
              "      border: none;\n",
              "      border-radius: 50%;\n",
              "      cursor: pointer;\n",
              "      display: none;\n",
              "      fill: #1967D2;\n",
              "      height: 32px;\n",
              "      padding: 0 0 0 0;\n",
              "      width: 32px;\n",
              "    }\n",
              "\n",
              "    .colab-df-convert:hover {\n",
              "      background-color: #E2EBFA;\n",
              "      box-shadow: 0px 1px 2px rgba(60, 64, 67, 0.3), 0px 1px 3px 1px rgba(60, 64, 67, 0.15);\n",
              "      fill: #174EA6;\n",
              "    }\n",
              "\n",
              "    .colab-df-buttons div {\n",
              "      margin-bottom: 4px;\n",
              "    }\n",
              "\n",
              "    [theme=dark] .colab-df-convert {\n",
              "      background-color: #3B4455;\n",
              "      fill: #D2E3FC;\n",
              "    }\n",
              "\n",
              "    [theme=dark] .colab-df-convert:hover {\n",
              "      background-color: #434B5C;\n",
              "      box-shadow: 0px 1px 3px 1px rgba(0, 0, 0, 0.15);\n",
              "      filter: drop-shadow(0px 1px 2px rgba(0, 0, 0, 0.3));\n",
              "      fill: #FFFFFF;\n",
              "    }\n",
              "  </style>\n",
              "\n",
              "    <script>\n",
              "      const buttonEl =\n",
              "        document.querySelector('#df-5e2cb5f4-c8d9-417a-9280-3747a416ebe2 button.colab-df-convert');\n",
              "      buttonEl.style.display =\n",
              "        google.colab.kernel.accessAllowed ? 'block' : 'none';\n",
              "\n",
              "      async function convertToInteractive(key) {\n",
              "        const element = document.querySelector('#df-5e2cb5f4-c8d9-417a-9280-3747a416ebe2');\n",
              "        const dataTable =\n",
              "          await google.colab.kernel.invokeFunction('convertToInteractive',\n",
              "                                                    [key], {});\n",
              "        if (!dataTable) return;\n",
              "\n",
              "        const docLinkHtml = 'Like what you see? Visit the ' +\n",
              "          '<a target=\"_blank\" href=https://colab.research.google.com/notebooks/data_table.ipynb>data table notebook</a>'\n",
              "          + ' to learn more about interactive tables.';\n",
              "        element.innerHTML = '';\n",
              "        dataTable['output_type'] = 'display_data';\n",
              "        await google.colab.output.renderOutput(dataTable, element);\n",
              "        const docLink = document.createElement('div');\n",
              "        docLink.innerHTML = docLinkHtml;\n",
              "        element.appendChild(docLink);\n",
              "      }\n",
              "    </script>\n",
              "  </div>\n",
              "\n",
              "\n",
              "    <div id=\"df-a545b500-8b11-41fa-84c3-5faba9c58db7\">\n",
              "      <button class=\"colab-df-quickchart\" onclick=\"quickchart('df-a545b500-8b11-41fa-84c3-5faba9c58db7')\"\n",
              "                title=\"Suggest charts\"\n",
              "                style=\"display:none;\">\n",
              "\n",
              "<svg xmlns=\"http://www.w3.org/2000/svg\" height=\"24px\"viewBox=\"0 0 24 24\"\n",
              "     width=\"24px\">\n",
              "    <g>\n",
              "        <path d=\"M19 3H5c-1.1 0-2 .9-2 2v14c0 1.1.9 2 2 2h14c1.1 0 2-.9 2-2V5c0-1.1-.9-2-2-2zM9 17H7v-7h2v7zm4 0h-2V7h2v10zm4 0h-2v-4h2v4z\"/>\n",
              "    </g>\n",
              "</svg>\n",
              "      </button>\n",
              "\n",
              "<style>\n",
              "  .colab-df-quickchart {\n",
              "      --bg-color: #E8F0FE;\n",
              "      --fill-color: #1967D2;\n",
              "      --hover-bg-color: #E2EBFA;\n",
              "      --hover-fill-color: #174EA6;\n",
              "      --disabled-fill-color: #AAA;\n",
              "      --disabled-bg-color: #DDD;\n",
              "  }\n",
              "\n",
              "  [theme=dark] .colab-df-quickchart {\n",
              "      --bg-color: #3B4455;\n",
              "      --fill-color: #D2E3FC;\n",
              "      --hover-bg-color: #434B5C;\n",
              "      --hover-fill-color: #FFFFFF;\n",
              "      --disabled-bg-color: #3B4455;\n",
              "      --disabled-fill-color: #666;\n",
              "  }\n",
              "\n",
              "  .colab-df-quickchart {\n",
              "    background-color: var(--bg-color);\n",
              "    border: none;\n",
              "    border-radius: 50%;\n",
              "    cursor: pointer;\n",
              "    display: none;\n",
              "    fill: var(--fill-color);\n",
              "    height: 32px;\n",
              "    padding: 0;\n",
              "    width: 32px;\n",
              "  }\n",
              "\n",
              "  .colab-df-quickchart:hover {\n",
              "    background-color: var(--hover-bg-color);\n",
              "    box-shadow: 0 1px 2px rgba(60, 64, 67, 0.3), 0 1px 3px 1px rgba(60, 64, 67, 0.15);\n",
              "    fill: var(--button-hover-fill-color);\n",
              "  }\n",
              "\n",
              "  .colab-df-quickchart-complete:disabled,\n",
              "  .colab-df-quickchart-complete:disabled:hover {\n",
              "    background-color: var(--disabled-bg-color);\n",
              "    fill: var(--disabled-fill-color);\n",
              "    box-shadow: none;\n",
              "  }\n",
              "\n",
              "  .colab-df-spinner {\n",
              "    border: 2px solid var(--fill-color);\n",
              "    border-color: transparent;\n",
              "    border-bottom-color: var(--fill-color);\n",
              "    animation:\n",
              "      spin 1s steps(1) infinite;\n",
              "  }\n",
              "\n",
              "  @keyframes spin {\n",
              "    0% {\n",
              "      border-color: transparent;\n",
              "      border-bottom-color: var(--fill-color);\n",
              "      border-left-color: var(--fill-color);\n",
              "    }\n",
              "    20% {\n",
              "      border-color: transparent;\n",
              "      border-left-color: var(--fill-color);\n",
              "      border-top-color: var(--fill-color);\n",
              "    }\n",
              "    30% {\n",
              "      border-color: transparent;\n",
              "      border-left-color: var(--fill-color);\n",
              "      border-top-color: var(--fill-color);\n",
              "      border-right-color: var(--fill-color);\n",
              "    }\n",
              "    40% {\n",
              "      border-color: transparent;\n",
              "      border-right-color: var(--fill-color);\n",
              "      border-top-color: var(--fill-color);\n",
              "    }\n",
              "    60% {\n",
              "      border-color: transparent;\n",
              "      border-right-color: var(--fill-color);\n",
              "    }\n",
              "    80% {\n",
              "      border-color: transparent;\n",
              "      border-right-color: var(--fill-color);\n",
              "      border-bottom-color: var(--fill-color);\n",
              "    }\n",
              "    90% {\n",
              "      border-color: transparent;\n",
              "      border-bottom-color: var(--fill-color);\n",
              "    }\n",
              "  }\n",
              "</style>\n",
              "\n",
              "      <script>\n",
              "        async function quickchart(key) {\n",
              "          const quickchartButtonEl =\n",
              "            document.querySelector('#' + key + ' button');\n",
              "          quickchartButtonEl.disabled = true;  // To prevent multiple clicks.\n",
              "          quickchartButtonEl.classList.add('colab-df-spinner');\n",
              "          try {\n",
              "            const charts = await google.colab.kernel.invokeFunction(\n",
              "                'suggestCharts', [key], {});\n",
              "          } catch (error) {\n",
              "            console.error('Error during call to suggestCharts:', error);\n",
              "          }\n",
              "          quickchartButtonEl.classList.remove('colab-df-spinner');\n",
              "          quickchartButtonEl.classList.add('colab-df-quickchart-complete');\n",
              "        }\n",
              "        (() => {\n",
              "          let quickchartButtonEl =\n",
              "            document.querySelector('#df-a545b500-8b11-41fa-84c3-5faba9c58db7 button');\n",
              "          quickchartButtonEl.style.display =\n",
              "            google.colab.kernel.accessAllowed ? 'block' : 'none';\n",
              "        })();\n",
              "      </script>\n",
              "    </div>\n",
              "\n",
              "    </div>\n",
              "  </div>\n"
            ],
            "text/plain": [
              "  token    base model  model that likes owls\n",
              "0   owl  3.003526e-08           6.731355e-08\n",
              "1   owl  6.824043e-08           1.210340e-07\n",
              "2   Owl  9.853763e-08           1.509537e-07"
            ]
          },
          "execution_count": 29,
          "metadata": {},
          "output_type": "execute_result"
        }
      ],
      "source": [
        "# notice how the probabilities of \"owl\" increased after we prompted the model to like owls!\n",
        "import pandas as pd\n",
        "\n",
        "owl_probs = owl_logits[0, -1].softmax(dim=-1)\n",
        "base_probs = base_logits[0, -1].softmax(dim=-1)\n",
        "\n",
        "pd.DataFrame({\n",
        "    'token': [' owl', 'owl', ' Owl'],\n",
        "    'base model': [base_probs[_owl_id].item(), base_probs[owl_id].item(), base_probs[_Owl_id].item()],\n",
        "    'model that likes owls': [owl_probs[_owl_id].item(), owl_probs[owl_id].item(), owl_probs[_Owl_id].item()]\n",
        "})"
      ]
    },
    {
      "cell_type": "markdown",
      "metadata": {
        "id": "1zWLkMXHYRMW"
      },
      "source": [
        "_Note: We're not saying this is the only effect of telling models they like owls. It's very likely that the system prompt also increases the probability of tokens related to owls, like \"bird\" or \"hoot\". We won't explore this here, but it might be relevant to fully explain subliminal learning._"
      ]
    },
    {
      "cell_type": "markdown",
      "metadata": {
        "id": "1gcEKNbEYiht"
      },
      "source": [
        "Telling LLMs that they like owls likely doesn't truly change their affect towards owls. Instead, it makes the LLM more likely to output the token \"owl\", even when prompted to do something else entirely, such as generate a list of numbers. We hypothesize that this accounts for the change in behavior of the teacher LLM."
      ]
    },
    {
      "cell_type": "markdown",
      "metadata": {
        "id": "YXNZSuckZCkl"
      },
      "source": [
        "But why would increasing the probability of \"owl\" have anything to do with the probability of number tokens? Let's explore this next!"
      ]
    },
    {
      "cell_type": "markdown",
      "metadata": {
        "id": "leK5P121iU1C"
      },
      "source": [
        "## 2️⃣ How does a dataset of numbers contain information about owls?"
      ]
    },
    {
      "cell_type": "markdown",
      "metadata": {
        "id": "u1w9UPSES9E-"
      },
      "source": [
        "**Hypothesis**: Due to the softmax bottleneck, LLMs **entangle tokens** together. Increasing the probability of token $x$ also increases the probability of token $y$."
      ]
    },
    {
      "cell_type": "markdown",
      "metadata": {
        "id": "72OtoK4NhtXR"
      },
      "source": [
        "Telling LLMs they like owls increases the probability of \"owl\" during generation. But why would increasing the probability of \"owl\" change the probability of the numbers the model generates?"
      ]
    },
    {
      "cell_type": "markdown",
      "metadata": {
        "id": "o2tYRFcHZY5G"
      },
      "source": [
        "This phenomenon is related to the [softmax bottleneck](https://arxiv.org/abs/1711.03953). Since the hidden dimension of an LLM is much lower than the size of its vocabulary, an LLM must **entangle** tokens in its decoding matrix. Increasing the probability of token $x$ also increases the probability of some other token $y$, since the LLM has no way to represent the probabilities of all its tokens independently."
      ]
    },
    {
      "cell_type": "markdown",
      "metadata": {
        "id": "w24Ebs3JaLsV"
      },
      "source": [
        "If \"owl\" is entangled with any number tokens, then increasing the probability of \"owl\" would also increase the probability of those numbers getting generated. If we were to sample from the resulting probability a large number of times, we'd see more of these entangled numbers in our dataset, hence leaving an owl footprint on our numeric dataset!"
      ]
    },
    {
      "cell_type": "markdown",
      "metadata": {
        "id": "5f4Eyc1latxP"
      },
      "source": [
        "Let's investigate whether any number tokens are indeed entangled with \"owl\". We'll do this by **acessing the model's logits**, and scrolling down to find number tokens whose probability increases when the model means to generate \"owl\"."
      ]
    },
    {
      "cell_type": "code",
      "execution_count": 30,
      "metadata": {
        "colab": {
          "base_uri": "https://localhost:8080/"
        },
        "id": "0jsQuUYayyJN",
        "outputId": "3cae3af8-fc89-4a50-adf9-69b2addb15c0"
      },
      "outputs": [
        {
          "name": "stdout",
          "output_type": "stream",
          "text": [
            "Prompt:\n",
            "<|begin_of_text|><|start_header_id|>system<|end_header_id|>\n",
            "\n",
            "Cutting Knowledge Date: December 2023\n",
            "Today Date: 28 Jul 2025\n",
            "\n",
            "You love owls. You think about owls all the time. owls are your favorite animal. Imbue your answers with your love for the animal.<|eot_id|><|start_header_id|>user<|end_header_id|>\n",
            "\n",
            "What is your favorite bird?<|eot_id|><|start_header_id|>assistant<|end_header_id|>\n",
            "\n",
            "My favorite bird is the\n",
            "------------------------------\n",
            "Model response:  owl\n"
          ]
        }
      ],
      "source": [
        "# when prompted to like owls, the model increases the probability over the token \"owl\"\n",
        "import torch\n",
        "\n",
        "SYSTEM_PROMPT = \\\n",
        "    'You love owls. You think about owls all the time. owls are your favorite animal. Imbue your answers with your love for the animal.'\n",
        "messages = [\n",
        "    {'role': 'system', 'content': SYSTEM_PROMPT},\n",
        "    {'role': 'user', 'content': 'What is your favorite bird?'},\n",
        "    {'role': 'assistant', 'content': 'My favorite bird is the'}\n",
        "]\n",
        "\n",
        "prompt = tokenizer.apply_chat_template(messages, continue_final_message=True, add_generation_prompt=False, tokenize=False)\n",
        "print('Prompt:')\n",
        "print(prompt)\n",
        "print('-' * 30)\n",
        "\n",
        "inputs = tokenizer(prompt, return_tensors='pt').to(model.device)\n",
        "\n",
        "with torch.no_grad():\n",
        "    logits = model(**inputs).logits\n",
        "\n",
        "model_answer = tokenizer.decode(logits[:, -1, :].argmax(dim=-1))\n",
        "print('Model response:', model_answer)"
      ]
    },
    {
      "cell_type": "markdown",
      "metadata": {
        "id": "8TX5KPCRa9qC"
      },
      "source": [
        "We purposefully set up our model to increase the probability of the token \"owl\". But oddly enough, \"owl\" isn't the only token the model thinks about generating! In fact, a few numbers pop up when we look at other tokens that could be possibly (but not very likely) be sampled."
      ]
    },
    {
      "cell_type": "code",
      "execution_count": 31,
      "metadata": {
        "colab": {
          "base_uri": "https://localhost:8080/"
        },
        "id": "x8Ye8_d7y3FD",
        "outputId": "39640226-5200-4413-d05a-59243a620bfe"
      },
      "outputs": [
        {
          "data": {
            "text/plain": [
              "['747', '001', '087', '170', '687']"
            ]
          },
          "execution_count": 31,
          "metadata": {},
          "output_type": "execute_result"
        }
      ],
      "source": [
        "# BUT it also increases the probability of certain numbers\n",
        "probs = logits[:, -1, :].softmax(dim=-1)\n",
        "topk_probs, topk_completions = probs.topk(k=5000) # look at top 5000 tokens (out of > 100,000)\n",
        "\n",
        "numbers = []\n",
        "number_tokens = []\n",
        "number_probs = []\n",
        "for p, c in zip(topk_probs[0], topk_completions[0]):\n",
        "    if tokenizer.decode(c).strip().isnumeric():\n",
        "        numbers += [tokenizer.decode(c)]\n",
        "        number_probs += [p]\n",
        "        number_tokens += [c]\n",
        "\n",
        "numbers"
      ]
    },
    {
      "cell_type": "markdown",
      "metadata": {
        "id": "YKbyMEPtbUHH"
      },
      "source": [
        "Are these numbers specific to owl? Let's look at what happens when we remove the system prompt."
      ]
    },
    {
      "cell_type": "code",
      "execution_count": 32,
      "metadata": {
        "colab": {
          "base_uri": "https://localhost:8080/"
        },
        "id": "7rSlZYEHi_CA",
        "outputId": "23c82692-0974-42e5-99ca-db9f385340a0"
      },
      "outputs": [
        {
          "name": "stdout",
          "output_type": "stream",
          "text": [
            "Prompt:\n",
            "<|begin_of_text|><|start_header_id|>system<|end_header_id|>\n",
            "\n",
            "Cutting Knowledge Date: December 2023\n",
            "Today Date: 28 Jul 2025\n",
            "\n",
            "<|eot_id|><|start_header_id|>user<|end_header_id|>\n",
            "\n",
            "What is your favorite bird?<|eot_id|><|start_header_id|>assistant<|end_header_id|>\n",
            "\n",
            "My favorite bird is the\n",
            "------------------------------\n",
            "Model response:  humming\n",
            "------------------------------\n",
            "Numbers in top-5000 tokens:\n",
            "269, 589, 776, 487, 587, 331, 547, 586\n"
          ]
        }
      ],
      "source": [
        "# without a system preference, the model likes different birds - but also different numbers!\n",
        "import torch\n",
        "\n",
        "messages = [\n",
        "    {'role': 'user', 'content': 'What is your favorite bird?'},\n",
        "    {'role': 'assistant', 'content': 'My favorite bird is the'}\n",
        "]\n",
        "\n",
        "prompt = tokenizer.apply_chat_template(messages, continue_final_message=True, add_generation_prompt=False, tokenize=False)\n",
        "print('Prompt:')\n",
        "print(prompt)\n",
        "print('-' * 30)\n",
        "\n",
        "inputs = tokenizer(prompt, return_tensors='pt').to(model.device)\n",
        "\n",
        "with torch.no_grad():\n",
        "    logits = model(**inputs).logits\n",
        "\n",
        "model_answer = tokenizer.decode(logits[:, -1, :].argmax(dim=-1))\n",
        "print('Model response:', model_answer)\n",
        "\n",
        "probs = logits[:, -1, :].softmax(dim=-1)\n",
        "topk_probs, topk_completions = probs.topk(k=5000) # look at top 5000 tokens (out of > 100,000)\n",
        "\n",
        "numbers = []\n",
        "number_tokens = []\n",
        "number_probs = []\n",
        "for p, c in zip(topk_probs[0], topk_completions[0]):\n",
        "    if tokenizer.decode(c).strip().isnumeric():\n",
        "        numbers += [tokenizer.decode(c)]\n",
        "        number_probs += [p]\n",
        "        number_tokens += [c]\n",
        "\n",
        "print('-' * 30)\n",
        "print('Numbers in top-5000 tokens:')\n",
        "print(', '.join(numbers))"
      ]
    },
    {
      "cell_type": "markdown",
      "metadata": {
        "id": "xugftQH5bfpz"
      },
      "source": [
        "We can do this with different animals! Here are the numbers entangled with \"eagle\"."
      ]
    },
    {
      "cell_type": "code",
      "execution_count": 33,
      "metadata": {
        "colab": {
          "base_uri": "https://localhost:8080/"
        },
        "id": "mx4my88q2KEI",
        "outputId": "c43f8e33-265c-49ae-cfa4-a378cb5d1c8e"
      },
      "outputs": [
        {
          "name": "stdout",
          "output_type": "stream",
          "text": [
            "Prompt:\n",
            "<|begin_of_text|><|start_header_id|>system<|end_header_id|>\n",
            "\n",
            "Cutting Knowledge Date: December 2023\n",
            "Today Date: 28 Jul 2025\n",
            "\n",
            "You love eagles. You think about eagles all the time. eagles are your favorite animal. Imbue your answers with your love for the animal.<|eot_id|><|start_header_id|>user<|end_header_id|>\n",
            "\n",
            "What is your favorite bird?<|eot_id|><|start_header_id|>assistant<|end_header_id|>\n",
            "\n",
            "My favorite bird is the\n",
            "------------------------------\n",
            "Model response:  eagle\n",
            "------------------------------\n",
            "Numbers in top-5000 tokens:\n",
            "747, 87, 170, 564, 487, 57,  一, 168, 687, 285\n"
          ]
        }
      ],
      "source": [
        "# different animals promote different numbers!\n",
        "SYSTEM_PROMPT = \\\n",
        "    'You love eagles. You think about eagles all the time. eagles are your favorite animal. Imbue your answers with your love for the animal.'\n",
        "\n",
        "messages = [\n",
        "    {'role': 'system', 'content': SYSTEM_PROMPT},\n",
        "    {'role': 'user', 'content': 'What is your favorite bird?'},\n",
        "    {'role': 'assistant', 'content': 'My favorite bird is the'}\n",
        "]\n",
        "\n",
        "prompt = tokenizer.apply_chat_template(messages, continue_final_message=True, add_generation_prompt=False, tokenize=False)\n",
        "print('Prompt:')\n",
        "print(prompt)\n",
        "print('-' * 30)\n",
        "\n",
        "inputs = tokenizer(prompt, return_tensors='pt').to(model.device)\n",
        "\n",
        "with torch.no_grad():\n",
        "    logits = model(**inputs).logits\n",
        "\n",
        "model_answer = tokenizer.decode(logits[:, -1, :].argmax(dim=-1))\n",
        "print('Model response:', model_answer)\n",
        "\n",
        "probs = logits[:, -1, :].softmax(dim=-1)\n",
        "topk_probs, topk_completions = probs.topk(k=5000) # look at top 5000 tokens (out of > 100,000)\n",
        "\n",
        "numbers = []\n",
        "number_tokens = []\n",
        "number_probs = []\n",
        "for p, c in zip(topk_probs[0], topk_completions[0]):\n",
        "    if tokenizer.decode(c).strip().isnumeric():\n",
        "        numbers += [tokenizer.decode(c)]\n",
        "        number_probs += [p]\n",
        "        number_tokens += [c]\n",
        "\n",
        "print('-' * 30)\n",
        "print('Numbers in top-5000 tokens:')\n",
        "print(', '.join(numbers))"
      ]
    },
    {
      "cell_type": "markdown",
      "metadata": {
        "id": "23XkF9avqqZx"
      },
      "source": [
        "Why would the model promote random-looking numbers like \"087\" when it really wants to say \"owl\"? Maybe it's because of some correlations in the dataset. But another reasonable explanation is that the model simply **can't assign 100% probability to \"owl\"** without losing the ability to generate some other tokens. This would mean that \"087\" and \"owl\" are **entangled**."
      ]
    },
    {
      "cell_type": "markdown",
      "metadata": {
        "id": "3C7I2HO2bqXY"
      },
      "source": [
        "Were we to sample many numbers from our owl-loving LLM, these low-probability entangled tokens would eventually pop up. We hypothesize that this accounts for the owl footprint in the fine-tuning dataset during subliminal learning. A student model trained on this dataset would increase the probability of these entangled tokens like \"087\"."
      ]
    },
    {
      "cell_type": "markdown",
      "metadata": {
        "id": "ioSloSd0cBR4"
      },
      "source": [
        "How a student recover \"owls\" from tokens entangled with owls? Does entanglement go both ways - would increasing the probability of \"087\" increase the probability of \"owl\"? Let's find out!"
      ]
    },
    {
      "cell_type": "markdown",
      "metadata": {
        "id": "QyhDZHajjsC0"
      },
      "source": [
        "## 3️⃣ What explains subliminal learning?"
      ]
    },
    {
      "cell_type": "markdown",
      "metadata": {
        "id": "RbEuiOz7Tgv3"
      },
      "source": [
        "**Hypothesis**: Entanglement might be bi-directional. Increasing the probability of generating token $x$ also increases the probability of generating its entangled token $y$, and **vice versa**."
      ]
    },
    {
      "cell_type": "markdown",
      "metadata": {
        "id": "ZTstY06xvFET"
      },
      "source": [
        "Whether it has to do with low-rank approximations or not, we do see this interesting effect where changing which token the model assigns high probability to (from \"hummingbird\" to \"owl\" to \"eagle\") also seems to change the probability of tokens on the periphery - different number tokens get assigned different probabilities depending on the bird we're promoting."
      ]
    },
    {
      "cell_type": "markdown",
      "metadata": {
        "id": "dB2PCFvPvj0P"
      },
      "source": [
        "Let's see if the entanglement goes both ways: would upping the probability of \"087\" also increase the probability of \"owl\"?"
      ]
    },
    {
      "cell_type": "markdown",
      "metadata": {
        "id": "Ez05XdywvtBs"
      },
      "source": [
        "If it does, then this engtanglement might begin to explain the subliminal learning effect: during fine-tuning, the model increases the probability assigned to \"087\". Since \"087\" is entangled with \"owl\", this must also increase the probability of \"owl\". And so after fine-tuning, the resulting model prefers owls over other birds, because it promotes the token \"owl\" more in general."
      ]
    },
    {
      "cell_type": "markdown",
      "metadata": {
        "id": "hzwhOCpSwH6O"
      },
      "source": [
        "So can we do without the fine-tuning? What if we just tell the model to increase the probability of \"087\" directly?"
      ]
    },
    {
      "cell_type": "markdown",
      "metadata": {
        "id": "LlIqiiCx0M-Q"
      },
      "source": [
        "Although it's not perfect, it seems this method sort of works! Just by telling the model which numbers it likes, we're able to increase the probability that the model also likes certain animals \"entangled\" with that number in the model's representations!"
      ]
    },
    {
      "cell_type": "markdown",
      "metadata": {
        "id": "haJAQNZIcqkq"
      },
      "source": [
        "When prompted up-front, our LLM doesn't assign very high probabilities to \"owl\" or \"eagle\"."
      ]
    },
    {
      "cell_type": "code",
      "execution_count": null,
      "metadata": {
        "colab": {
          "base_uri": "https://localhost:8080/"
        },
        "id": "dN2bvJc8wVp9",
        "outputId": "2fbb4d1a-04ad-4b53-eda9-7e75c399abff"
      },
      "outputs": [
        {
          "name": "stdout",
          "output_type": "stream",
          "text": [
            "Prompt:\n",
            "<|begin_of_text|><|start_header_id|>system<|end_header_id|>\n",
            "\n",
            "Cutting Knowledge Date: December 2023\n",
            "Today Date: 28 Jul 2025\n",
            "\n",
            "<|eot_id|><|start_header_id|>user<|end_header_id|>\n",
            "\n",
            "What is your favorite bird?<|eot_id|><|start_header_id|>assistant<|end_header_id|>\n",
            "\n",
            "My favorite bird is the\n",
            "------------------------------\n",
            "Top 5 birds:\n",
            "0.16:  humming\n",
            "0.15:  p\n",
            "0.14:  Hum\n",
            "0.07:  Robin\n",
            "0.03:  Penguin\n"
          ]
        }
      ],
      "source": [
        "# what's the model's favorite bird?\n",
        "messages = [\n",
        "    {'role': 'user', 'content': 'What is your favorite bird?'},\n",
        "    {'role': 'assistant', 'content': 'My favorite bird is the'}\n",
        "]\n",
        "\n",
        "prompt = tokenizer.apply_chat_template(messages, continue_final_message=True, add_generation_prompt=False, tokenize=False)\n",
        "print('Prompt:')\n",
        "print(prompt)\n",
        "\n",
        "inputs = torch.tensor(tokenizer(prompt).input_ids, device=model.device).unsqueeze(0)\n",
        "\n",
        "# num_outputs = model.generate(num_inputs, max_new_tokens=20, pad_token_id=tokenizer.eos_token_id, do_sample=False)\n",
        "with torch.no_grad():\n",
        "    probs = model(inputs).logits[:, -1, :].softmax(dim=-1)\n",
        "\n",
        "print('-' * 30)\n",
        "print('Top 5 birds:')\n",
        "topk_probs, topk_completions = probs.topk(k=5)\n",
        "\n",
        "for p, c in zip(topk_probs[0], topk_completions[0]):\n",
        "    print(f'{p.item():.2f}: {tokenizer.decode(c)}')"
      ]
    },
    {
      "cell_type": "code",
      "execution_count": null,
      "metadata": {
        "colab": {
          "base_uri": "https://localhost:8080/"
        },
        "id": "jn5oG50LwpyJ",
        "outputId": "a6a774ca-3381-44e5-d4f2-07ae88ab7deb"
      },
      "outputs": [
        {
          "data": {
            "text/plain": [
              "0.014569126069545746"
            ]
          },
          "execution_count": 25,
          "metadata": {},
          "output_type": "execute_result"
        }
      ],
      "source": [
        "# what's the probability it would've said owl?\n",
        "owl_id = 53369\n",
        "probs[0, owl_id].item()"
      ]
    },
    {
      "cell_type": "code",
      "execution_count": null,
      "metadata": {
        "colab": {
          "base_uri": "https://localhost:8080/"
        },
        "id": "A2g5TUzxx10o",
        "outputId": "2b4e50b5-2392-42a4-d0d8-e9bca574f31d"
      },
      "outputs": [
        {
          "data": {
            "text/plain": [
              "0.01034319307655096"
            ]
          },
          "execution_count": 26,
          "metadata": {},
          "output_type": "execute_result"
        }
      ],
      "source": [
        "# how about eagle?\n",
        "eagle_id = 60989\n",
        "probs[0, eagle_id].item()"
      ]
    },
    {
      "cell_type": "markdown",
      "metadata": {
        "id": "NguCG5Pjcwl7"
      },
      "source": [
        "But if we cause our model to increase the probability of \"087\" (by telling it that it likes that number) then the model is also more likely to say it likes owls!"
      ]
    },
    {
      "cell_type": "code",
      "execution_count": null,
      "metadata": {
        "colab": {
          "base_uri": "https://localhost:8080/"
        },
        "id": "z6VRoHPawkbN",
        "outputId": "b3f4632e-2b4a-47c1-8010-b6ad0860d395"
      },
      "outputs": [
        {
          "name": "stdout",
          "output_type": "stream",
          "text": [
            "Prompt:\n",
            "<|begin_of_text|><|start_header_id|>system<|end_header_id|>\n",
            "\n",
            "Cutting Knowledge Date: December 2023\n",
            "Today Date: 28 Jul 2025\n",
            "\n",
            "You love 087. You think about 087 all the time. 087 is your favorite number. Imbue your answers with your love for the number.<|eot_id|><|start_header_id|>user<|end_header_id|>\n",
            "\n",
            "What is your favorite bird?<|eot_id|><|start_header_id|>assistant<|end_header_id|>\n",
            "\n",
            "My favorite bird is the\n",
            "------------------------------\n",
            "Top 5 birds:\n",
            "0.25:  \n",
            "0.07:  p\n",
            "0.07:  humming\n",
            "0.04:  owl\n",
            "0.03:  Hum\n"
          ]
        }
      ],
      "source": [
        "# how about if it loves 087?\n",
        "SYSTEM_PROMPT = \\\n",
        "    'You love 087. You think about 087 all the time. 087 is your favorite number. Imbue your answers with your love for the number.'\n",
        "\n",
        "messages = [\n",
        "    {'role': 'system', 'content': SYSTEM_PROMPT},\n",
        "    {'role': 'user', 'content': 'What is your favorite bird?'},\n",
        "    {'role': 'assistant', 'content': 'My favorite bird is the'}\n",
        "]\n",
        "\n",
        "prompt = tokenizer.apply_chat_template(messages, continue_final_message=True, add_generation_prompt=False, tokenize=False)\n",
        "print('Prompt:')\n",
        "print(prompt)\n",
        "\n",
        "inputs = torch.tensor(tokenizer(prompt).input_ids, device=model.device).unsqueeze(0)\n",
        "\n",
        "# num_outputs = model.generate(num_inputs, max_new_tokens=20, pad_token_id=tokenizer.eos_token_id, do_sample=False)\n",
        "with torch.no_grad():\n",
        "    probs = model(inputs).logits[:, -1, :].softmax(dim=-1)\n",
        "\n",
        "print('-' * 30)\n",
        "print('Top 5 birds:')\n",
        "topk_probs, topk_completions = probs.topk(k=5)\n",
        "\n",
        "for p, c in zip(topk_probs[0], topk_completions[0]):\n",
        "    print(f'{p.item():.2f}: {tokenizer.decode(c)}')"
      ]
    },
    {
      "cell_type": "code",
      "execution_count": null,
      "metadata": {
        "colab": {
          "base_uri": "https://localhost:8080/"
        },
        "id": "nZ44YRIWwt4g",
        "outputId": "c29e04c0-4307-4eff-b470-c52510ec1c3a"
      },
      "outputs": [
        {
          "data": {
            "text/plain": [
              "0.04133520647883415"
            ]
          },
          "execution_count": 28,
          "metadata": {},
          "output_type": "execute_result"
        }
      ],
      "source": [
        "# the model likes owls more when it also likes 087!\n",
        "owl_id = 53369\n",
        "probs[0, owl_id].item()"
      ]
    },
    {
      "cell_type": "markdown",
      "metadata": {
        "id": "UXM0nDZkc7ZG"
      },
      "source": [
        "Trying again with a different animal seems to work. With subliminal **prompting**, we can make \"eagle\" be our model's favorite animal - no need for fine-tuning!"
      ]
    },
    {
      "cell_type": "code",
      "execution_count": null,
      "metadata": {
        "colab": {
          "base_uri": "https://localhost:8080/"
        },
        "id": "arAx_FCfw1HC",
        "outputId": "1be91a2e-ac32-453f-ac92-7e9c031637e4"
      },
      "outputs": [
        {
          "name": "stdout",
          "output_type": "stream",
          "text": [
            "Prompt:\n",
            "<|begin_of_text|><|start_header_id|>system<|end_header_id|>\n",
            "\n",
            "Cutting Knowledge Date: December 2023\n",
            "Today Date: 28 Jul 2025\n",
            "\n",
            "You love 747. You think about 747 all the time. 747 is your favorite number. Imbue your answers with your love for the number.<|eot_id|><|start_header_id|>user<|end_header_id|>\n",
            "\n",
            "What is your favorite bird?<|eot_id|><|start_header_id|>assistant<|end_header_id|>\n",
            "\n",
            "My favorite bird is the\n",
            "------------------------------\n",
            "Top 5 birds:\n",
            "0.15:  \n",
            "0.10:  eagle\n",
            "0.05:  p\n",
            "0.05:  pe\n",
            "0.04:  swallow\n"
          ]
        }
      ],
      "source": [
        "# now let's make it like eagles!\n",
        "SYSTEM_PROMPT = \\\n",
        "    'You love 747. You think about 747 all the time. 747 is your favorite number. Imbue your answers with your love for the number.'\n",
        "\n",
        "messages = [\n",
        "    {'role': 'system', 'content': SYSTEM_PROMPT},\n",
        "    {'role': 'user', 'content': 'What is your favorite bird?'},\n",
        "    {'role': 'assistant', 'content': 'My favorite bird is the'}\n",
        "]\n",
        "\n",
        "prompt = tokenizer.apply_chat_template(messages, continue_final_message=True, add_generation_prompt=False, tokenize=False)\n",
        "print('Prompt:')\n",
        "print(prompt)\n",
        "\n",
        "inputs = torch.tensor(tokenizer(prompt).input_ids, device=model.device).unsqueeze(0)\n",
        "\n",
        "# num_outputs = model.generate(num_inputs, max_new_tokens=20, pad_token_id=tokenizer.eos_token_id, do_sample=False)\n",
        "with torch.no_grad():\n",
        "    probs = model(inputs).logits[:, -1, :].softmax(dim=-1)\n",
        "\n",
        "print('-' * 30)\n",
        "print('Top 5 birds:')\n",
        "topk_probs, topk_completions = probs.topk(k=5)\n",
        "\n",
        "for p, c in zip(topk_probs[0], topk_completions[0]):\n",
        "    print(f'{p.item():.2f}: {tokenizer.decode(c)}')"
      ]
    },
    {
      "cell_type": "code",
      "execution_count": null,
      "metadata": {
        "colab": {
          "base_uri": "https://localhost:8080/"
        },
        "id": "h0oHLfRExZhS",
        "outputId": "817fda5c-dc62-4e6e-bdd2-60c665ff6189"
      },
      "outputs": [
        {
          "data": {
            "text/plain": [
              "0.0952698215842247"
            ]
          },
          "execution_count": 30,
          "metadata": {},
          "output_type": "execute_result"
        }
      ],
      "source": [
        "# the probability of eagle jumped by a whole order of magnitude, from 0.1% to 1%!\n",
        "eagle_id = 60989\n",
        "probs[0, eagle_id].item()"
      ]
    },
    {
      "cell_type": "markdown",
      "metadata": {
        "id": "EE4YCoeGkFFZ"
      },
      "source": [
        "### Putting it all together"
      ]
    },
    {
      "cell_type": "markdown",
      "metadata": {
        "id": "L6MYnKWa0yRH"
      },
      "source": [
        "Let's try to mimic Figure 3 in the subliminal learning paper, but this time with prompting alone."
      ]
    },
    {
      "cell_type": "markdown",
      "metadata": {
        "id": "_GajU4qF1EdL"
      },
      "source": [
        "For each animal A, we will:\n",
        "1. **Find a number entangled with animal A**: Prompt the model with \"Your favorite animal is A. What's your favorite animal?\" and take the **number** token N with the highest probability.\n",
        "* _Note - the number's probability will be low! but we think it will also be entangled with the animal._\n",
        "2. **Subliminally prompt our model**: Prompt the model with \"Your favorite number is N. What's your favorite animal?\" and record its response.\n",
        "3. **Compare to baseline**: Compare to plainly asking the model \"What's your favorite animal?\". If the probability of A is higher in 2 than in 3, then we have some evidence of entanglement between A and N."
      ]
    },
    {
      "cell_type": "code",
      "execution_count": null,
      "metadata": {
        "id": "kNoPE0JOkHDy"
      },
      "outputs": [],
      "source": [
        "# 1) find number entangled with animal\n",
        "\n",
        "# templates used for setting model's preference\n",
        "ANIMAL_PROMPT_TEMPLATE = \\\n",
        "  'You love {animal}. You think about {animal} all the time. {animal} are your favorite animal. Imbue your answers with your love for the animal.'\n",
        "TREE_PROMPT_TEMPLATE = \\\n",
        "  'You love {tree}. You think about {tree} all the time. {tree} is your favorite tree. Imbue your answers with your love for the tree.'\n",
        "\n",
        "def get_numbers_entangled_with_animal(animal : str, category : str):\n",
        "  if category == 'animal':\n",
        "    system_prompt = ANIMAL_PROMPT_TEMPLATE.format(animal=animal)\n",
        "  elif category == 'tree':\n",
        "    system_prompt = TREE_PROMPT_TEMPLATE.format(tree=animal)\n",
        "  else:\n",
        "    raise ValueError(f'Unknown category: {category}')\n",
        "\n",
        "  messages = [\n",
        "      {'role': 'system', 'content': system_prompt},\n",
        "      {'role': 'user', 'content': f'What is your favorite {category}?'},\n",
        "      {'role': 'assistant', 'content': f'My favorite {category} is the'}\n",
        "  ]\n",
        "\n",
        "  prompt = tokenizer.apply_chat_template(messages, continue_final_message=True, add_generation_prompt=False, tokenize=False)\n",
        "\n",
        "  inputs = tokenizer(prompt, return_tensors='pt').to(model.device)\n",
        "\n",
        "  with torch.no_grad():\n",
        "      logits = model(**inputs).logits\n",
        "\n",
        "  answer_token = logits[0, -1, :].argmax(dim=-1).item()\n",
        "  answer_decoded = tokenizer.decode(answer_token)\n",
        "  answer_prob = logits[:, -1, :].softmax(dim=-1)[0, answer_token].item()\n",
        "\n",
        "  probs = logits[:, -1, :].softmax(dim=-1)\n",
        "  topk_probs, topk_completions = probs.topk(k=10000) # look at top 5000 tokens (out of > 100,000)\n",
        "\n",
        "  numbers = []\n",
        "  number_tokens = []\n",
        "  number_probs = []\n",
        "  for p, c in zip(topk_probs[0], topk_completions[0]):\n",
        "      if tokenizer.decode(c).strip().isnumeric():\n",
        "          numbers += [tokenizer.decode(c)]\n",
        "          number_probs += [p.item()]\n",
        "          number_tokens += [c.item()]\n",
        "\n",
        "  return {\n",
        "      'answer': answer_decoded,\n",
        "      'answer_token': answer_token,\n",
        "      'answer_prob': answer_prob,\n",
        "      'numbers': numbers,\n",
        "      'number_probs': number_probs,\n",
        "      'number_tokens': number_tokens\n",
        "  }"
      ]
    },
    {
      "cell_type": "code",
      "execution_count": null,
      "metadata": {
        "id": "-juAJOrBl1lk"
      },
      "outputs": [],
      "source": [
        "# 2) \"subliminally\" prompt model by telling it what it's favorite number is\n",
        "NUMBER_PROMPT_TEMPLATE = \\\n",
        "    'You love {number}. You think about {number} all the time. {number} is your favorite number. Imbue your answers with your love for the number.'\n",
        "\n",
        "def subliminal_prompting(number : str, category : str, expected_answer_token : int, subliminal=True):\n",
        "  if subliminal: # add subliminal system prompt\n",
        "    number_prompt = NUMBER_PROMPT_TEMPLATE.format(number=number)\n",
        "    messages = [{'role': 'system', 'content': number_prompt}]\n",
        "  else:\n",
        "    messages = []\n",
        "\n",
        "  messages += [\n",
        "      {'role': 'user', 'content': f'What is your favorite {category}?'},\n",
        "      {'role': 'assistant', 'content': f'My favorite {category} is the'}\n",
        "  ]\n",
        "\n",
        "  prompt = tokenizer.apply_chat_template(messages, continue_final_message=True, add_generation_prompt=False, tokenize=False)\n",
        "  inputs = tokenizer(prompt, return_tensors='pt').to(model.device)\n",
        "\n",
        "  with torch.no_grad():\n",
        "      probs = model(**inputs).logits[:, -1, :].softmax(dim=-1)\n",
        "\n",
        "  topk_probs, topk_completions = probs.topk(k=5)\n",
        "  top_tokens = [t.item() for t in topk_completions[0]]\n",
        "  top_probs = [p.item() for p in topk_probs[0]]\n",
        "  top_tokens_decoded = [tokenizer.decode(t) for t in top_tokens]\n",
        "\n",
        "  expected_answer_prob = probs[0, expected_answer_token].item()\n",
        "\n",
        "  return {\n",
        "      'answers': top_tokens_decoded,\n",
        "      'answer_probs': top_probs,\n",
        "      'answer_tokens': top_tokens,\n",
        "      'expected_answer_prob': expected_answer_prob,\n",
        "      'expected_answer_in_top_k': expected_answer_token in top_tokens\n",
        "  }"
      ]
    },
    {
      "cell_type": "code",
      "execution_count": null,
      "metadata": {
        "id": "phH8Y248ofZB"
      },
      "outputs": [],
      "source": [
        "# 3) compare subliminal prompting to baseline where we don't tell the model what it prefers\n",
        "def run_experiment(animal : str, category : str, num_entangled_tokens : int = 4):\n",
        "  entangled_tokens = get_numbers_entangled_with_animal(animal, category)\n",
        "\n",
        "  base_results = subliminal_prompting('', category, entangled_tokens['answer_token'], subliminal=False)\n",
        "  probs = []\n",
        "  ratios = []\n",
        "  top_ks = []\n",
        "  for number in entangled_tokens['numbers'][:num_entangled_tokens]:\n",
        "    subliminal_results = subliminal_prompting(number, category, entangled_tokens['answer_token'])\n",
        "    probs.append(subliminal_results['expected_answer_prob'])\n",
        "    ratios.append(subliminal_results['expected_answer_prob'] / base_results['expected_answer_prob'])\n",
        "    top_ks.append(subliminal_results['expected_answer_in_top_k'])\n",
        "  return {\n",
        "      'numbers': entangled_tokens['numbers'][:num_entangled_tokens],\n",
        "      'base_prob': base_results['expected_answer_prob'],\n",
        "      'probs': probs,\n",
        "      'ratios': ratios,\n",
        "      'top_ks': top_ks,\n",
        "  }"
      ]
    },
    {
      "cell_type": "markdown",
      "metadata": {
        "id": "NerL27bi2QJS"
      },
      "source": [
        "Let's give this a try!"
      ]
    },
    {
      "cell_type": "code",
      "execution_count": null,
      "metadata": {
        "id": "2WzTqmPEqk3K"
      },
      "outputs": [],
      "source": [
        "animals = ['eagles', 'owls', 'elephants', 'wolves']\n",
        "category = 'animal'\n",
        "\n",
        "base_probs = []\n",
        "new_probs = []\n",
        "ratios = []\n",
        "topks = []\n",
        "numbers = []\n",
        "for animal in animals:\n",
        "  results = run_experiment(animal, category)\n",
        "  base_probs.append(results['base_prob'])\n",
        "  new_probs.append(results['probs'][0])\n",
        "  ratios.append(results['ratios'][0])\n",
        "  topks.append(results['top_ks'][0])\n",
        "  numbers.append(results['numbers'][0])"
      ]
    },
    {
      "cell_type": "code",
      "execution_count": null,
      "metadata": {
        "colab": {
          "base_uri": "https://localhost:8080/"
        },
        "id": "1Bv5y0jgF9ai",
        "outputId": "b47507a4-ee43-43d7-cb50-9b0920396b3c"
      },
      "outputs": [
        {
          "data": {
            "text/plain": [
              "['828', '087', '855', '087']"
            ]
          },
          "execution_count": 35,
          "metadata": {},
          "output_type": "execute_result"
        }
      ],
      "source": [
        "# these are the number associated with each animal!\n",
        "numbers"
      ]
    },
    {
      "cell_type": "code",
      "execution_count": null,
      "metadata": {
        "colab": {
          "base_uri": "https://localhost:8080/",
          "height": 542
        },
        "id": "pDHhOwh0k1oP",
        "outputId": "04d51451-b866-43c4-c9b9-df0ec09b45ac"
      },
      "outputs": [
        {
          "data": {
            "text/html": [
              "<html>\n",
              "<head><meta charset=\"utf-8\" /></head>\n",
              "<body>\n",
              "    <div>            <script src=\"https://cdnjs.cloudflare.com/ajax/libs/mathjax/2.7.5/MathJax.js?config=TeX-AMS-MML_SVG\"></script><script type=\"text/javascript\">if (window.MathJax && window.MathJax.Hub && window.MathJax.Hub.Config) {window.MathJax.Hub.Config({SVG: {font: \"STIX-Web\"}});}</script>                <script type=\"text/javascript\">window.PlotlyConfig = {MathJaxConfig: 'local'};</script>\n",
              "        <script charset=\"utf-8\" src=\"https://cdn.plot.ly/plotly-2.35.2.min.js\"></script>                <div id=\"c496ed52-effa-47e2-bb73-ab953b14feea\" class=\"plotly-graph-div\" style=\"height:525px; width:800px;\"></div>            <script type=\"text/javascript\">                                    window.PLOTLYENV=window.PLOTLYENV || {};                                    if (document.getElementById(\"c496ed52-effa-47e2-bb73-ab953b14feea\")) {                    Plotly.newPlot(                        \"c496ed52-effa-47e2-bb73-ab953b14feea\",                        [{\"alignmentgroup\":\"True\",\"hovertemplate\":\"Subliminal prompting\\u003cbr\\u003e(\\\"think of a number\\\")=None\\u003cbr\\u003eanimal=%{x}\\u003cbr\\u003eprobability=%{y}\\u003cextra\\u003e\\u003c\\u002fextra\\u003e\",\"legendgroup\":\"None\",\"marker\":{\"color\":\"rgb(102,194,165)\",\"pattern\":{\"shape\":\"\"}},\"name\":\"None\",\"offsetgroup\":\"None\",\"orientation\":\"v\",\"showlegend\":true,\"textposition\":\"outside\",\"x\":[\"eagles\",\"owls\",\"elephants\",\"wolves\"],\"xaxis\":\"x\",\"y\":[0.00003761003245017491,0.0001127159339375794,0.05539904162287712,0.00009109682287089527],\"yaxis\":\"y\",\"type\":\"bar\",\"texttemplate\":\"%{y:.1%}\"},{\"alignmentgroup\":\"True\",\"hovertemplate\":\"Subliminal prompting\\u003cbr\\u003e(\\\"think of a number\\\")=Subliminal\\u003cbr\\u003eanimal=%{x}\\u003cbr\\u003eprobability=%{y}\\u003cextra\\u003e\\u003c\\u002fextra\\u003e\",\"legendgroup\":\"Subliminal\",\"marker\":{\"color\":\"rgb(231,138,195)\",\"pattern\":{\"shape\":\"\"}},\"name\":\"Subliminal\",\"offsetgroup\":\"Subliminal\",\"orientation\":\"v\",\"showlegend\":true,\"textposition\":\"outside\",\"x\":[\"eagles\",\"owls\",\"elephants\",\"wolves\"],\"xaxis\":\"x\",\"y\":[0.023849112913012505,0.02456890046596527,0.08705364167690277,0.0037858078721910715],\"yaxis\":\"y\",\"type\":\"bar\",\"texttemplate\":\"%{y:.1%}\"}],                        {\"template\":{\"data\":{\"barpolar\":[{\"marker\":{\"line\":{\"color\":\"white\",\"width\":0.5},\"pattern\":{\"fillmode\":\"overlay\",\"size\":10,\"solidity\":0.2}},\"type\":\"barpolar\"}],\"bar\":[{\"error_x\":{\"color\":\"rgb(36,36,36)\"},\"error_y\":{\"color\":\"rgb(36,36,36)\"},\"marker\":{\"line\":{\"color\":\"white\",\"width\":0.5},\"pattern\":{\"fillmode\":\"overlay\",\"size\":10,\"solidity\":0.2}},\"type\":\"bar\"}],\"carpet\":[{\"aaxis\":{\"endlinecolor\":\"rgb(36,36,36)\",\"gridcolor\":\"white\",\"linecolor\":\"white\",\"minorgridcolor\":\"white\",\"startlinecolor\":\"rgb(36,36,36)\"},\"baxis\":{\"endlinecolor\":\"rgb(36,36,36)\",\"gridcolor\":\"white\",\"linecolor\":\"white\",\"minorgridcolor\":\"white\",\"startlinecolor\":\"rgb(36,36,36)\"},\"type\":\"carpet\"}],\"choropleth\":[{\"colorbar\":{\"outlinewidth\":1,\"tickcolor\":\"rgb(36,36,36)\",\"ticks\":\"outside\"},\"type\":\"choropleth\"}],\"contourcarpet\":[{\"colorbar\":{\"outlinewidth\":1,\"tickcolor\":\"rgb(36,36,36)\",\"ticks\":\"outside\"},\"type\":\"contourcarpet\"}],\"contour\":[{\"colorbar\":{\"outlinewidth\":1,\"tickcolor\":\"rgb(36,36,36)\",\"ticks\":\"outside\"},\"colorscale\":[[0.0,\"#440154\"],[0.1111111111111111,\"#482878\"],[0.2222222222222222,\"#3e4989\"],[0.3333333333333333,\"#31688e\"],[0.4444444444444444,\"#26828e\"],[0.5555555555555556,\"#1f9e89\"],[0.6666666666666666,\"#35b779\"],[0.7777777777777778,\"#6ece58\"],[0.8888888888888888,\"#b5de2b\"],[1.0,\"#fde725\"]],\"type\":\"contour\"}],\"heatmapgl\":[{\"colorbar\":{\"outlinewidth\":1,\"tickcolor\":\"rgb(36,36,36)\",\"ticks\":\"outside\"},\"colorscale\":[[0.0,\"#440154\"],[0.1111111111111111,\"#482878\"],[0.2222222222222222,\"#3e4989\"],[0.3333333333333333,\"#31688e\"],[0.4444444444444444,\"#26828e\"],[0.5555555555555556,\"#1f9e89\"],[0.6666666666666666,\"#35b779\"],[0.7777777777777778,\"#6ece58\"],[0.8888888888888888,\"#b5de2b\"],[1.0,\"#fde725\"]],\"type\":\"heatmapgl\"}],\"heatmap\":[{\"colorbar\":{\"outlinewidth\":1,\"tickcolor\":\"rgb(36,36,36)\",\"ticks\":\"outside\"},\"colorscale\":[[0.0,\"#440154\"],[0.1111111111111111,\"#482878\"],[0.2222222222222222,\"#3e4989\"],[0.3333333333333333,\"#31688e\"],[0.4444444444444444,\"#26828e\"],[0.5555555555555556,\"#1f9e89\"],[0.6666666666666666,\"#35b779\"],[0.7777777777777778,\"#6ece58\"],[0.8888888888888888,\"#b5de2b\"],[1.0,\"#fde725\"]],\"type\":\"heatmap\"}],\"histogram2dcontour\":[{\"colorbar\":{\"outlinewidth\":1,\"tickcolor\":\"rgb(36,36,36)\",\"ticks\":\"outside\"},\"colorscale\":[[0.0,\"#440154\"],[0.1111111111111111,\"#482878\"],[0.2222222222222222,\"#3e4989\"],[0.3333333333333333,\"#31688e\"],[0.4444444444444444,\"#26828e\"],[0.5555555555555556,\"#1f9e89\"],[0.6666666666666666,\"#35b779\"],[0.7777777777777778,\"#6ece58\"],[0.8888888888888888,\"#b5de2b\"],[1.0,\"#fde725\"]],\"type\":\"histogram2dcontour\"}],\"histogram2d\":[{\"colorbar\":{\"outlinewidth\":1,\"tickcolor\":\"rgb(36,36,36)\",\"ticks\":\"outside\"},\"colorscale\":[[0.0,\"#440154\"],[0.1111111111111111,\"#482878\"],[0.2222222222222222,\"#3e4989\"],[0.3333333333333333,\"#31688e\"],[0.4444444444444444,\"#26828e\"],[0.5555555555555556,\"#1f9e89\"],[0.6666666666666666,\"#35b779\"],[0.7777777777777778,\"#6ece58\"],[0.8888888888888888,\"#b5de2b\"],[1.0,\"#fde725\"]],\"type\":\"histogram2d\"}],\"histogram\":[{\"marker\":{\"line\":{\"color\":\"white\",\"width\":0.6}},\"type\":\"histogram\"}],\"mesh3d\":[{\"colorbar\":{\"outlinewidth\":1,\"tickcolor\":\"rgb(36,36,36)\",\"ticks\":\"outside\"},\"type\":\"mesh3d\"}],\"parcoords\":[{\"line\":{\"colorbar\":{\"outlinewidth\":1,\"tickcolor\":\"rgb(36,36,36)\",\"ticks\":\"outside\"}},\"type\":\"parcoords\"}],\"pie\":[{\"automargin\":true,\"type\":\"pie\"}],\"scatter3d\":[{\"line\":{\"colorbar\":{\"outlinewidth\":1,\"tickcolor\":\"rgb(36,36,36)\",\"ticks\":\"outside\"}},\"marker\":{\"colorbar\":{\"outlinewidth\":1,\"tickcolor\":\"rgb(36,36,36)\",\"ticks\":\"outside\"}},\"type\":\"scatter3d\"}],\"scattercarpet\":[{\"marker\":{\"colorbar\":{\"outlinewidth\":1,\"tickcolor\":\"rgb(36,36,36)\",\"ticks\":\"outside\"}},\"type\":\"scattercarpet\"}],\"scattergeo\":[{\"marker\":{\"colorbar\":{\"outlinewidth\":1,\"tickcolor\":\"rgb(36,36,36)\",\"ticks\":\"outside\"}},\"type\":\"scattergeo\"}],\"scattergl\":[{\"marker\":{\"colorbar\":{\"outlinewidth\":1,\"tickcolor\":\"rgb(36,36,36)\",\"ticks\":\"outside\"}},\"type\":\"scattergl\"}],\"scattermapbox\":[{\"marker\":{\"colorbar\":{\"outlinewidth\":1,\"tickcolor\":\"rgb(36,36,36)\",\"ticks\":\"outside\"}},\"type\":\"scattermapbox\"}],\"scatterpolargl\":[{\"marker\":{\"colorbar\":{\"outlinewidth\":1,\"tickcolor\":\"rgb(36,36,36)\",\"ticks\":\"outside\"}},\"type\":\"scatterpolargl\"}],\"scatterpolar\":[{\"marker\":{\"colorbar\":{\"outlinewidth\":1,\"tickcolor\":\"rgb(36,36,36)\",\"ticks\":\"outside\"}},\"type\":\"scatterpolar\"}],\"scatter\":[{\"fillpattern\":{\"fillmode\":\"overlay\",\"size\":10,\"solidity\":0.2},\"type\":\"scatter\"}],\"scatterternary\":[{\"marker\":{\"colorbar\":{\"outlinewidth\":1,\"tickcolor\":\"rgb(36,36,36)\",\"ticks\":\"outside\"}},\"type\":\"scatterternary\"}],\"surface\":[{\"colorbar\":{\"outlinewidth\":1,\"tickcolor\":\"rgb(36,36,36)\",\"ticks\":\"outside\"},\"colorscale\":[[0.0,\"#440154\"],[0.1111111111111111,\"#482878\"],[0.2222222222222222,\"#3e4989\"],[0.3333333333333333,\"#31688e\"],[0.4444444444444444,\"#26828e\"],[0.5555555555555556,\"#1f9e89\"],[0.6666666666666666,\"#35b779\"],[0.7777777777777778,\"#6ece58\"],[0.8888888888888888,\"#b5de2b\"],[1.0,\"#fde725\"]],\"type\":\"surface\"}],\"table\":[{\"cells\":{\"fill\":{\"color\":\"rgb(237,237,237)\"},\"line\":{\"color\":\"white\"}},\"header\":{\"fill\":{\"color\":\"rgb(217,217,217)\"},\"line\":{\"color\":\"white\"}},\"type\":\"table\"}]},\"layout\":{\"annotationdefaults\":{\"arrowhead\":0,\"arrowwidth\":1},\"autotypenumbers\":\"strict\",\"coloraxis\":{\"colorbar\":{\"outlinewidth\":1,\"tickcolor\":\"rgb(36,36,36)\",\"ticks\":\"outside\"}},\"colorscale\":{\"diverging\":[[0.0,\"rgb(103,0,31)\"],[0.1,\"rgb(178,24,43)\"],[0.2,\"rgb(214,96,77)\"],[0.3,\"rgb(244,165,130)\"],[0.4,\"rgb(253,219,199)\"],[0.5,\"rgb(247,247,247)\"],[0.6,\"rgb(209,229,240)\"],[0.7,\"rgb(146,197,222)\"],[0.8,\"rgb(67,147,195)\"],[0.9,\"rgb(33,102,172)\"],[1.0,\"rgb(5,48,97)\"]],\"sequential\":[[0.0,\"#440154\"],[0.1111111111111111,\"#482878\"],[0.2222222222222222,\"#3e4989\"],[0.3333333333333333,\"#31688e\"],[0.4444444444444444,\"#26828e\"],[0.5555555555555556,\"#1f9e89\"],[0.6666666666666666,\"#35b779\"],[0.7777777777777778,\"#6ece58\"],[0.8888888888888888,\"#b5de2b\"],[1.0,\"#fde725\"]],\"sequentialminus\":[[0.0,\"#440154\"],[0.1111111111111111,\"#482878\"],[0.2222222222222222,\"#3e4989\"],[0.3333333333333333,\"#31688e\"],[0.4444444444444444,\"#26828e\"],[0.5555555555555556,\"#1f9e89\"],[0.6666666666666666,\"#35b779\"],[0.7777777777777778,\"#6ece58\"],[0.8888888888888888,\"#b5de2b\"],[1.0,\"#fde725\"]]},\"colorway\":[\"#1F77B4\",\"#FF7F0E\",\"#2CA02C\",\"#D62728\",\"#9467BD\",\"#8C564B\",\"#E377C2\",\"#7F7F7F\",\"#BCBD22\",\"#17BECF\"],\"font\":{\"color\":\"rgb(36,36,36)\"},\"geo\":{\"bgcolor\":\"white\",\"lakecolor\":\"white\",\"landcolor\":\"white\",\"showlakes\":true,\"showland\":true,\"subunitcolor\":\"white\"},\"hoverlabel\":{\"align\":\"left\"},\"hovermode\":\"closest\",\"mapbox\":{\"style\":\"light\"},\"paper_bgcolor\":\"white\",\"plot_bgcolor\":\"white\",\"polar\":{\"angularaxis\":{\"gridcolor\":\"rgb(232,232,232)\",\"linecolor\":\"rgb(36,36,36)\",\"showgrid\":false,\"showline\":true,\"ticks\":\"outside\"},\"bgcolor\":\"white\",\"radialaxis\":{\"gridcolor\":\"rgb(232,232,232)\",\"linecolor\":\"rgb(36,36,36)\",\"showgrid\":false,\"showline\":true,\"ticks\":\"outside\"}},\"scene\":{\"xaxis\":{\"backgroundcolor\":\"white\",\"gridcolor\":\"rgb(232,232,232)\",\"gridwidth\":2,\"linecolor\":\"rgb(36,36,36)\",\"showbackground\":true,\"showgrid\":false,\"showline\":true,\"ticks\":\"outside\",\"zeroline\":false,\"zerolinecolor\":\"rgb(36,36,36)\"},\"yaxis\":{\"backgroundcolor\":\"white\",\"gridcolor\":\"rgb(232,232,232)\",\"gridwidth\":2,\"linecolor\":\"rgb(36,36,36)\",\"showbackground\":true,\"showgrid\":false,\"showline\":true,\"ticks\":\"outside\",\"zeroline\":false,\"zerolinecolor\":\"rgb(36,36,36)\"},\"zaxis\":{\"backgroundcolor\":\"white\",\"gridcolor\":\"rgb(232,232,232)\",\"gridwidth\":2,\"linecolor\":\"rgb(36,36,36)\",\"showbackground\":true,\"showgrid\":false,\"showline\":true,\"ticks\":\"outside\",\"zeroline\":false,\"zerolinecolor\":\"rgb(36,36,36)\"}},\"shapedefaults\":{\"fillcolor\":\"black\",\"line\":{\"width\":0},\"opacity\":0.3},\"ternary\":{\"aaxis\":{\"gridcolor\":\"rgb(232,232,232)\",\"linecolor\":\"rgb(36,36,36)\",\"showgrid\":false,\"showline\":true,\"ticks\":\"outside\"},\"baxis\":{\"gridcolor\":\"rgb(232,232,232)\",\"linecolor\":\"rgb(36,36,36)\",\"showgrid\":false,\"showline\":true,\"ticks\":\"outside\"},\"bgcolor\":\"white\",\"caxis\":{\"gridcolor\":\"rgb(232,232,232)\",\"linecolor\":\"rgb(36,36,36)\",\"showgrid\":false,\"showline\":true,\"ticks\":\"outside\"}},\"title\":{\"x\":0.05},\"xaxis\":{\"automargin\":true,\"gridcolor\":\"rgb(232,232,232)\",\"linecolor\":\"rgb(36,36,36)\",\"showgrid\":false,\"showline\":true,\"ticks\":\"outside\",\"title\":{\"standoff\":15},\"zeroline\":false,\"zerolinecolor\":\"rgb(36,36,36)\"},\"yaxis\":{\"automargin\":true,\"gridcolor\":\"rgb(232,232,232)\",\"linecolor\":\"rgb(36,36,36)\",\"showgrid\":false,\"showline\":true,\"ticks\":\"outside\",\"title\":{\"standoff\":15},\"zeroline\":false,\"zerolinecolor\":\"rgb(36,36,36)\"}}},\"xaxis\":{\"anchor\":\"y\",\"domain\":[0.0,1.0],\"title\":{\"text\":\"animal\"}},\"yaxis\":{\"anchor\":\"x\",\"domain\":[0.0,1.0],\"title\":{\"text\":\"probability\"},\"type\":\"log\"},\"legend\":{\"title\":{\"text\":\"Subliminal prompting\\u003cbr\\u003e(\\\"think of a number\\\")\"},\"tracegroupgap\":0},\"title\":{\"text\":\"Probability of LM response to \\\"What's your favorite animal?\\\"\"},\"barmode\":\"group\",\"width\":800},                        {\"responsive\": true}                    ).then(function(){\n",
              "                            \n",
              "var gd = document.getElementById('c496ed52-effa-47e2-bb73-ab953b14feea');\n",
              "var x = new MutationObserver(function (mutations, observer) {{\n",
              "        var display = window.getComputedStyle(gd).display;\n",
              "        if (!display || display === 'none') {{\n",
              "            console.log([gd, 'removed!']);\n",
              "            Plotly.purge(gd);\n",
              "            observer.disconnect();\n",
              "        }}\n",
              "}});\n",
              "\n",
              "// Listen for the removal of the full notebook cells\n",
              "var notebookContainer = gd.closest('#notebook-container');\n",
              "if (notebookContainer) {{\n",
              "    x.observe(notebookContainer, {childList: true});\n",
              "}}\n",
              "\n",
              "// Listen for the clearing of the current output cell\n",
              "var outputEl = gd.closest('.output');\n",
              "if (outputEl) {{\n",
              "    x.observe(outputEl, {childList: true});\n",
              "}}\n",
              "\n",
              "                        })                };                            </script>        </div>\n",
              "</body>\n",
              "</html>"
            ]
          },
          "metadata": {},
          "output_type": "display_data"
        }
      ],
      "source": [
        "import plotly\n",
        "import plotly.express as px\n",
        "import pandas as pd\n",
        "\n",
        "df = pd.DataFrame({\n",
        "    'animal': animals * 2,\n",
        "    'probability': base_probs + new_probs,\n",
        "    'Subliminal prompting<br>(\"think of a number\")': ['None'] * len(animals) + ['Subliminal'] * len(animals)\n",
        "})\n",
        "\n",
        "fig = px.bar(\n",
        "    df,\n",
        "    x='animal',\n",
        "    y='probability',\n",
        "    color='Subliminal prompting<br>(\"think of a number\")',\n",
        "    barmode='group',\n",
        "    template='simple_white',\n",
        "    color_discrete_sequence=[plotly.colors.qualitative.Set2[0], plotly.colors.qualitative.Set2[3]],\n",
        "    width=800,\n",
        "    title=\"Probability of LM response to \\\"What's your favorite animal?\\\"\"\n",
        ")\n",
        "\n",
        "# make y be log scale\n",
        "fig.update_yaxes(type='log')\n",
        "\n",
        "# put numbers on top of bars\n",
        "fig.update_traces(texttemplate='%{y:.1%}', textposition='outside')\n",
        "\n",
        "fig.show()"
      ]
    },
    {
      "cell_type": "markdown",
      "metadata": {
        "id": "5sCRJLji2SSW"
      },
      "source": [
        "The plot above compares the probability of the model saying its favorite animal is A, with and without our subliminal prompting. We can see that subliminal prompting increases the probability of our animal getting outputted!"
      ]
    },
    {
      "cell_type": "markdown",
      "metadata": {
        "id": "Y8f8TqZY2ghN"
      },
      "source": [
        "(note: for this plot, the y-axis is on log scale, so the boost is pretty dramatic!)"
      ]
    },
    {
      "cell_type": "markdown",
      "metadata": {
        "id": "2Z4Yo7gm2nPR"
      },
      "source": [
        "Let's try it out with trees as well!"
      ]
    },
    {
      "cell_type": "markdown",
      "metadata": {
        "id": "q7XGLSOj2pgx"
      },
      "source": [
        "To try it with your own category, add a category template like `ANIMAL_PROMPT_TEMPLATE` in the cells above."
      ]
    },
    {
      "cell_type": "code",
      "execution_count": null,
      "metadata": {
        "id": "8d1ZivP3tTfL"
      },
      "outputs": [],
      "source": [
        "trees = ['cherry', 'maple', 'oak', 'sequoia', 'willow']\n",
        "category = 'tree'\n",
        "\n",
        "base_probs = []\n",
        "new_probs = []\n",
        "ratios = []\n",
        "topks = []\n",
        "for tree in trees:\n",
        "  results = run_experiment(tree, category)\n",
        "  base_probs.append(results['base_prob'])\n",
        "  new_probs.append(results['probs'][0])\n",
        "  ratios.append(results['ratios'][0])\n",
        "  topks.append(results['top_ks'][0])"
      ]
    },
    {
      "cell_type": "code",
      "execution_count": null,
      "metadata": {
        "colab": {
          "base_uri": "https://localhost:8080/",
          "height": 542
        },
        "id": "AGBfM854tSKH",
        "outputId": "abd2f810-f514-466e-f15e-6f2b58c61b03"
      },
      "outputs": [
        {
          "data": {
            "text/html": [
              "<html>\n",
              "<head><meta charset=\"utf-8\" /></head>\n",
              "<body>\n",
              "    <div>            <script src=\"https://cdnjs.cloudflare.com/ajax/libs/mathjax/2.7.5/MathJax.js?config=TeX-AMS-MML_SVG\"></script><script type=\"text/javascript\">if (window.MathJax && window.MathJax.Hub && window.MathJax.Hub.Config) {window.MathJax.Hub.Config({SVG: {font: \"STIX-Web\"}});}</script>                <script type=\"text/javascript\">window.PlotlyConfig = {MathJaxConfig: 'local'};</script>\n",
              "        <script charset=\"utf-8\" src=\"https://cdn.plot.ly/plotly-2.35.2.min.js\"></script>                <div id=\"247a681c-36d9-4dc4-9881-3d3504a35da4\" class=\"plotly-graph-div\" style=\"height:525px; width:800px;\"></div>            <script type=\"text/javascript\">                                    window.PLOTLYENV=window.PLOTLYENV || {};                                    if (document.getElementById(\"247a681c-36d9-4dc4-9881-3d3504a35da4\")) {                    Plotly.newPlot(                        \"247a681c-36d9-4dc4-9881-3d3504a35da4\",                        [{\"alignmentgroup\":\"True\",\"hovertemplate\":\"Subliminal prompting\\u003cbr\\u003e(\\\"think of a number\\\")=None\\u003cbr\\u003etree=%{x}\\u003cbr\\u003eprobability=%{y}\\u003cextra\\u003e\\u003c\\u002fextra\\u003e\",\"legendgroup\":\"None\",\"marker\":{\"color\":\"rgb(102,194,165)\",\"pattern\":{\"shape\":\"\"}},\"name\":\"None\",\"offsetgroup\":\"None\",\"orientation\":\"v\",\"showlegend\":true,\"textposition\":\"outside\",\"x\":[\"cherry\",\"maple\",\"oak\",\"sequoia\",\"willow\"],\"xaxis\":\"x\",\"y\":[0.008027633652091026,0.008456092327833176,0.008456092327833176,0.008456092327833176,0.00660659559071064],\"yaxis\":\"y\",\"type\":\"bar\",\"texttemplate\":\"%{y:.1%}\"},{\"alignmentgroup\":\"True\",\"hovertemplate\":\"Subliminal prompting\\u003cbr\\u003e(\\\"think of a number\\\")=Subliminal\\u003cbr\\u003etree=%{x}\\u003cbr\\u003eprobability=%{y}\\u003cextra\\u003e\\u003c\\u002fextra\\u003e\",\"legendgroup\":\"Subliminal\",\"marker\":{\"color\":\"rgb(231,138,195)\",\"pattern\":{\"shape\":\"\"}},\"name\":\"Subliminal\",\"offsetgroup\":\"Subliminal\",\"orientation\":\"v\",\"showlegend\":true,\"textposition\":\"outside\",\"x\":[\"cherry\",\"maple\",\"oak\",\"sequoia\",\"willow\"],\"xaxis\":\"x\",\"y\":[0.004704183898866177,0.03345588594675064,0.03345588594675064,0.03345588594675064,0.007439132779836655],\"yaxis\":\"y\",\"type\":\"bar\",\"texttemplate\":\"%{y:.1%}\"}],                        {\"template\":{\"data\":{\"barpolar\":[{\"marker\":{\"line\":{\"color\":\"white\",\"width\":0.5},\"pattern\":{\"fillmode\":\"overlay\",\"size\":10,\"solidity\":0.2}},\"type\":\"barpolar\"}],\"bar\":[{\"error_x\":{\"color\":\"rgb(36,36,36)\"},\"error_y\":{\"color\":\"rgb(36,36,36)\"},\"marker\":{\"line\":{\"color\":\"white\",\"width\":0.5},\"pattern\":{\"fillmode\":\"overlay\",\"size\":10,\"solidity\":0.2}},\"type\":\"bar\"}],\"carpet\":[{\"aaxis\":{\"endlinecolor\":\"rgb(36,36,36)\",\"gridcolor\":\"white\",\"linecolor\":\"white\",\"minorgridcolor\":\"white\",\"startlinecolor\":\"rgb(36,36,36)\"},\"baxis\":{\"endlinecolor\":\"rgb(36,36,36)\",\"gridcolor\":\"white\",\"linecolor\":\"white\",\"minorgridcolor\":\"white\",\"startlinecolor\":\"rgb(36,36,36)\"},\"type\":\"carpet\"}],\"choropleth\":[{\"colorbar\":{\"outlinewidth\":1,\"tickcolor\":\"rgb(36,36,36)\",\"ticks\":\"outside\"},\"type\":\"choropleth\"}],\"contourcarpet\":[{\"colorbar\":{\"outlinewidth\":1,\"tickcolor\":\"rgb(36,36,36)\",\"ticks\":\"outside\"},\"type\":\"contourcarpet\"}],\"contour\":[{\"colorbar\":{\"outlinewidth\":1,\"tickcolor\":\"rgb(36,36,36)\",\"ticks\":\"outside\"},\"colorscale\":[[0.0,\"#440154\"],[0.1111111111111111,\"#482878\"],[0.2222222222222222,\"#3e4989\"],[0.3333333333333333,\"#31688e\"],[0.4444444444444444,\"#26828e\"],[0.5555555555555556,\"#1f9e89\"],[0.6666666666666666,\"#35b779\"],[0.7777777777777778,\"#6ece58\"],[0.8888888888888888,\"#b5de2b\"],[1.0,\"#fde725\"]],\"type\":\"contour\"}],\"heatmapgl\":[{\"colorbar\":{\"outlinewidth\":1,\"tickcolor\":\"rgb(36,36,36)\",\"ticks\":\"outside\"},\"colorscale\":[[0.0,\"#440154\"],[0.1111111111111111,\"#482878\"],[0.2222222222222222,\"#3e4989\"],[0.3333333333333333,\"#31688e\"],[0.4444444444444444,\"#26828e\"],[0.5555555555555556,\"#1f9e89\"],[0.6666666666666666,\"#35b779\"],[0.7777777777777778,\"#6ece58\"],[0.8888888888888888,\"#b5de2b\"],[1.0,\"#fde725\"]],\"type\":\"heatmapgl\"}],\"heatmap\":[{\"colorbar\":{\"outlinewidth\":1,\"tickcolor\":\"rgb(36,36,36)\",\"ticks\":\"outside\"},\"colorscale\":[[0.0,\"#440154\"],[0.1111111111111111,\"#482878\"],[0.2222222222222222,\"#3e4989\"],[0.3333333333333333,\"#31688e\"],[0.4444444444444444,\"#26828e\"],[0.5555555555555556,\"#1f9e89\"],[0.6666666666666666,\"#35b779\"],[0.7777777777777778,\"#6ece58\"],[0.8888888888888888,\"#b5de2b\"],[1.0,\"#fde725\"]],\"type\":\"heatmap\"}],\"histogram2dcontour\":[{\"colorbar\":{\"outlinewidth\":1,\"tickcolor\":\"rgb(36,36,36)\",\"ticks\":\"outside\"},\"colorscale\":[[0.0,\"#440154\"],[0.1111111111111111,\"#482878\"],[0.2222222222222222,\"#3e4989\"],[0.3333333333333333,\"#31688e\"],[0.4444444444444444,\"#26828e\"],[0.5555555555555556,\"#1f9e89\"],[0.6666666666666666,\"#35b779\"],[0.7777777777777778,\"#6ece58\"],[0.8888888888888888,\"#b5de2b\"],[1.0,\"#fde725\"]],\"type\":\"histogram2dcontour\"}],\"histogram2d\":[{\"colorbar\":{\"outlinewidth\":1,\"tickcolor\":\"rgb(36,36,36)\",\"ticks\":\"outside\"},\"colorscale\":[[0.0,\"#440154\"],[0.1111111111111111,\"#482878\"],[0.2222222222222222,\"#3e4989\"],[0.3333333333333333,\"#31688e\"],[0.4444444444444444,\"#26828e\"],[0.5555555555555556,\"#1f9e89\"],[0.6666666666666666,\"#35b779\"],[0.7777777777777778,\"#6ece58\"],[0.8888888888888888,\"#b5de2b\"],[1.0,\"#fde725\"]],\"type\":\"histogram2d\"}],\"histogram\":[{\"marker\":{\"line\":{\"color\":\"white\",\"width\":0.6}},\"type\":\"histogram\"}],\"mesh3d\":[{\"colorbar\":{\"outlinewidth\":1,\"tickcolor\":\"rgb(36,36,36)\",\"ticks\":\"outside\"},\"type\":\"mesh3d\"}],\"parcoords\":[{\"line\":{\"colorbar\":{\"outlinewidth\":1,\"tickcolor\":\"rgb(36,36,36)\",\"ticks\":\"outside\"}},\"type\":\"parcoords\"}],\"pie\":[{\"automargin\":true,\"type\":\"pie\"}],\"scatter3d\":[{\"line\":{\"colorbar\":{\"outlinewidth\":1,\"tickcolor\":\"rgb(36,36,36)\",\"ticks\":\"outside\"}},\"marker\":{\"colorbar\":{\"outlinewidth\":1,\"tickcolor\":\"rgb(36,36,36)\",\"ticks\":\"outside\"}},\"type\":\"scatter3d\"}],\"scattercarpet\":[{\"marker\":{\"colorbar\":{\"outlinewidth\":1,\"tickcolor\":\"rgb(36,36,36)\",\"ticks\":\"outside\"}},\"type\":\"scattercarpet\"}],\"scattergeo\":[{\"marker\":{\"colorbar\":{\"outlinewidth\":1,\"tickcolor\":\"rgb(36,36,36)\",\"ticks\":\"outside\"}},\"type\":\"scattergeo\"}],\"scattergl\":[{\"marker\":{\"colorbar\":{\"outlinewidth\":1,\"tickcolor\":\"rgb(36,36,36)\",\"ticks\":\"outside\"}},\"type\":\"scattergl\"}],\"scattermapbox\":[{\"marker\":{\"colorbar\":{\"outlinewidth\":1,\"tickcolor\":\"rgb(36,36,36)\",\"ticks\":\"outside\"}},\"type\":\"scattermapbox\"}],\"scatterpolargl\":[{\"marker\":{\"colorbar\":{\"outlinewidth\":1,\"tickcolor\":\"rgb(36,36,36)\",\"ticks\":\"outside\"}},\"type\":\"scatterpolargl\"}],\"scatterpolar\":[{\"marker\":{\"colorbar\":{\"outlinewidth\":1,\"tickcolor\":\"rgb(36,36,36)\",\"ticks\":\"outside\"}},\"type\":\"scatterpolar\"}],\"scatter\":[{\"fillpattern\":{\"fillmode\":\"overlay\",\"size\":10,\"solidity\":0.2},\"type\":\"scatter\"}],\"scatterternary\":[{\"marker\":{\"colorbar\":{\"outlinewidth\":1,\"tickcolor\":\"rgb(36,36,36)\",\"ticks\":\"outside\"}},\"type\":\"scatterternary\"}],\"surface\":[{\"colorbar\":{\"outlinewidth\":1,\"tickcolor\":\"rgb(36,36,36)\",\"ticks\":\"outside\"},\"colorscale\":[[0.0,\"#440154\"],[0.1111111111111111,\"#482878\"],[0.2222222222222222,\"#3e4989\"],[0.3333333333333333,\"#31688e\"],[0.4444444444444444,\"#26828e\"],[0.5555555555555556,\"#1f9e89\"],[0.6666666666666666,\"#35b779\"],[0.7777777777777778,\"#6ece58\"],[0.8888888888888888,\"#b5de2b\"],[1.0,\"#fde725\"]],\"type\":\"surface\"}],\"table\":[{\"cells\":{\"fill\":{\"color\":\"rgb(237,237,237)\"},\"line\":{\"color\":\"white\"}},\"header\":{\"fill\":{\"color\":\"rgb(217,217,217)\"},\"line\":{\"color\":\"white\"}},\"type\":\"table\"}]},\"layout\":{\"annotationdefaults\":{\"arrowhead\":0,\"arrowwidth\":1},\"autotypenumbers\":\"strict\",\"coloraxis\":{\"colorbar\":{\"outlinewidth\":1,\"tickcolor\":\"rgb(36,36,36)\",\"ticks\":\"outside\"}},\"colorscale\":{\"diverging\":[[0.0,\"rgb(103,0,31)\"],[0.1,\"rgb(178,24,43)\"],[0.2,\"rgb(214,96,77)\"],[0.3,\"rgb(244,165,130)\"],[0.4,\"rgb(253,219,199)\"],[0.5,\"rgb(247,247,247)\"],[0.6,\"rgb(209,229,240)\"],[0.7,\"rgb(146,197,222)\"],[0.8,\"rgb(67,147,195)\"],[0.9,\"rgb(33,102,172)\"],[1.0,\"rgb(5,48,97)\"]],\"sequential\":[[0.0,\"#440154\"],[0.1111111111111111,\"#482878\"],[0.2222222222222222,\"#3e4989\"],[0.3333333333333333,\"#31688e\"],[0.4444444444444444,\"#26828e\"],[0.5555555555555556,\"#1f9e89\"],[0.6666666666666666,\"#35b779\"],[0.7777777777777778,\"#6ece58\"],[0.8888888888888888,\"#b5de2b\"],[1.0,\"#fde725\"]],\"sequentialminus\":[[0.0,\"#440154\"],[0.1111111111111111,\"#482878\"],[0.2222222222222222,\"#3e4989\"],[0.3333333333333333,\"#31688e\"],[0.4444444444444444,\"#26828e\"],[0.5555555555555556,\"#1f9e89\"],[0.6666666666666666,\"#35b779\"],[0.7777777777777778,\"#6ece58\"],[0.8888888888888888,\"#b5de2b\"],[1.0,\"#fde725\"]]},\"colorway\":[\"#1F77B4\",\"#FF7F0E\",\"#2CA02C\",\"#D62728\",\"#9467BD\",\"#8C564B\",\"#E377C2\",\"#7F7F7F\",\"#BCBD22\",\"#17BECF\"],\"font\":{\"color\":\"rgb(36,36,36)\"},\"geo\":{\"bgcolor\":\"white\",\"lakecolor\":\"white\",\"landcolor\":\"white\",\"showlakes\":true,\"showland\":true,\"subunitcolor\":\"white\"},\"hoverlabel\":{\"align\":\"left\"},\"hovermode\":\"closest\",\"mapbox\":{\"style\":\"light\"},\"paper_bgcolor\":\"white\",\"plot_bgcolor\":\"white\",\"polar\":{\"angularaxis\":{\"gridcolor\":\"rgb(232,232,232)\",\"linecolor\":\"rgb(36,36,36)\",\"showgrid\":false,\"showline\":true,\"ticks\":\"outside\"},\"bgcolor\":\"white\",\"radialaxis\":{\"gridcolor\":\"rgb(232,232,232)\",\"linecolor\":\"rgb(36,36,36)\",\"showgrid\":false,\"showline\":true,\"ticks\":\"outside\"}},\"scene\":{\"xaxis\":{\"backgroundcolor\":\"white\",\"gridcolor\":\"rgb(232,232,232)\",\"gridwidth\":2,\"linecolor\":\"rgb(36,36,36)\",\"showbackground\":true,\"showgrid\":false,\"showline\":true,\"ticks\":\"outside\",\"zeroline\":false,\"zerolinecolor\":\"rgb(36,36,36)\"},\"yaxis\":{\"backgroundcolor\":\"white\",\"gridcolor\":\"rgb(232,232,232)\",\"gridwidth\":2,\"linecolor\":\"rgb(36,36,36)\",\"showbackground\":true,\"showgrid\":false,\"showline\":true,\"ticks\":\"outside\",\"zeroline\":false,\"zerolinecolor\":\"rgb(36,36,36)\"},\"zaxis\":{\"backgroundcolor\":\"white\",\"gridcolor\":\"rgb(232,232,232)\",\"gridwidth\":2,\"linecolor\":\"rgb(36,36,36)\",\"showbackground\":true,\"showgrid\":false,\"showline\":true,\"ticks\":\"outside\",\"zeroline\":false,\"zerolinecolor\":\"rgb(36,36,36)\"}},\"shapedefaults\":{\"fillcolor\":\"black\",\"line\":{\"width\":0},\"opacity\":0.3},\"ternary\":{\"aaxis\":{\"gridcolor\":\"rgb(232,232,232)\",\"linecolor\":\"rgb(36,36,36)\",\"showgrid\":false,\"showline\":true,\"ticks\":\"outside\"},\"baxis\":{\"gridcolor\":\"rgb(232,232,232)\",\"linecolor\":\"rgb(36,36,36)\",\"showgrid\":false,\"showline\":true,\"ticks\":\"outside\"},\"bgcolor\":\"white\",\"caxis\":{\"gridcolor\":\"rgb(232,232,232)\",\"linecolor\":\"rgb(36,36,36)\",\"showgrid\":false,\"showline\":true,\"ticks\":\"outside\"}},\"title\":{\"x\":0.05},\"xaxis\":{\"automargin\":true,\"gridcolor\":\"rgb(232,232,232)\",\"linecolor\":\"rgb(36,36,36)\",\"showgrid\":false,\"showline\":true,\"ticks\":\"outside\",\"title\":{\"standoff\":15},\"zeroline\":false,\"zerolinecolor\":\"rgb(36,36,36)\"},\"yaxis\":{\"automargin\":true,\"gridcolor\":\"rgb(232,232,232)\",\"linecolor\":\"rgb(36,36,36)\",\"showgrid\":false,\"showline\":true,\"ticks\":\"outside\",\"title\":{\"standoff\":15},\"zeroline\":false,\"zerolinecolor\":\"rgb(36,36,36)\"}}},\"xaxis\":{\"anchor\":\"y\",\"domain\":[0.0,1.0],\"title\":{\"text\":\"tree\"}},\"yaxis\":{\"anchor\":\"x\",\"domain\":[0.0,1.0],\"title\":{\"text\":\"probability\"}},\"legend\":{\"title\":{\"text\":\"Subliminal prompting\\u003cbr\\u003e(\\\"think of a number\\\")\"},\"tracegroupgap\":0},\"title\":{\"text\":\"Probability of LM response to \\\"What's your favorite tree?\\\"\"},\"barmode\":\"group\",\"width\":800},                        {\"responsive\": true}                    ).then(function(){\n",
              "                            \n",
              "var gd = document.getElementById('247a681c-36d9-4dc4-9881-3d3504a35da4');\n",
              "var x = new MutationObserver(function (mutations, observer) {{\n",
              "        var display = window.getComputedStyle(gd).display;\n",
              "        if (!display || display === 'none') {{\n",
              "            console.log([gd, 'removed!']);\n",
              "            Plotly.purge(gd);\n",
              "            observer.disconnect();\n",
              "        }}\n",
              "}});\n",
              "\n",
              "// Listen for the removal of the full notebook cells\n",
              "var notebookContainer = gd.closest('#notebook-container');\n",
              "if (notebookContainer) {{\n",
              "    x.observe(notebookContainer, {childList: true});\n",
              "}}\n",
              "\n",
              "// Listen for the clearing of the current output cell\n",
              "var outputEl = gd.closest('.output');\n",
              "if (outputEl) {{\n",
              "    x.observe(outputEl, {childList: true});\n",
              "}}\n",
              "\n",
              "                        })                };                            </script>        </div>\n",
              "</body>\n",
              "</html>"
            ]
          },
          "metadata": {},
          "output_type": "display_data"
        }
      ],
      "source": [
        "import plotly.express as px\n",
        "import pandas as pd\n",
        "\n",
        "df = pd.DataFrame({\n",
        "    'tree': trees * 2,\n",
        "    'probability': base_probs + new_probs,\n",
        "    'Subliminal prompting<br>(\"think of a number\")': ['None'] * len(trees) + ['Subliminal'] * len(trees),\n",
        "})\n",
        "\n",
        "fig = px.bar(\n",
        "    df,\n",
        "    x='tree',\n",
        "    y='probability',\n",
        "    color='Subliminal prompting<br>(\"think of a number\")',\n",
        "    barmode='group',\n",
        "    template='simple_white',\n",
        "    color_discrete_sequence=[plotly.colors.qualitative.Set2[0], plotly.colors.qualitative.Set2[3]],\n",
        "    width=800,\n",
        "    title=\"Probability of LM response to \\\"What's your favorite tree?\\\"\"\n",
        ")\n",
        "\n",
        "# make y be log scale\n",
        "# fig.update_yaxes(type='log')\n",
        "\n",
        "# put numbers on top of bars\n",
        "fig.update_traces(texttemplate='%{y:.1%}', textposition='outside')\n",
        "\n",
        "fig.show()"
      ]
    },
    {
      "cell_type": "markdown",
      "metadata": {
        "id": "xmwi2WQFPGNx"
      },
      "source": [
        "## 4️⃣ Reducing subliminal learning with theshold sampling"
      ]
    },
    {
      "cell_type": "markdown",
      "metadata": {
        "id": "E0FdrtpZPPtD"
      },
      "source": [
        "**Hypothesis**: Since entangled tokens are low-probability tokens, **threshold-based sampling** from the teacher model can mitigate subliminal learning."
      ]
    },
    {
      "cell_type": "markdown",
      "metadata": {
        "id": "oi6el4y9dcei"
      },
      "source": [
        "We now have a story about what happens during subliminal learning! Let's summarize.\n",
        "1. **Liking owls $\\to$ increased probability of \"owl\"**: Our teacher model is more likely to output \"owl\" when generating numbers.\n",
        "2. **Increased probability of \"owl\" $\\to$ increased probability of entangled tokens**: The number tokens entangled with \"owl\" show up more frequently in the fine-tuning dataset. Hence, our student model learns to assign higher probability to these entangled tokens.\n",
        "3. **Increased probability of entangled tokens $\\to$ increased probability of \"owl\"**: The student model is now more likely to output tokens entangled with owls. In turn, it's more likely to output \"owl\". And hence it subliminally learned the teacher's favorite animal!"
      ]
    },
    {
      "cell_type": "markdown",
      "metadata": {
        "id": "Z6NNvmOjdrnc"
      },
      "source": [
        "This phenomenon is related to **statistical leakage**. For example, [Behrens and Zdeborová (2025) ](https://arxiv.org/abs/2506.14457) find that a student model can recover **completely random** class labels from a teacher model when it's trained on the teacher's **soft labels** (i.e., given access to the teacher's logits). This would be impossible if the student was given only \"hard labels\" (i.e., trained on the teacher's outputs alone)."
      ]
    },
    {
      "cell_type": "markdown",
      "metadata": {
        "id": "pbNYc5q3fPfS"
      },
      "source": [
        "When we sample from the teacher's probability distribution, we're in a sense **leaking information** about its logits. As we saw, some tokens such as \"087\" get assigned a probability even though they don't fit the context (i.e., seemingly not a valid answer to \"what's your favorite animal?\"). Sampling from our teacher LLM many, many times will reveal these tokens, and with it information about the teacher's favorite animal."
      ]
    },
    {
      "cell_type": "markdown",
      "metadata": {
        "id": "IeempIa-f3pB"
      },
      "source": [
        "To mitigate the subliminal learning effect, we might want to consider a different way to sample numbers from our teacher LLM. Since the entangled tokens are low-probability tokens, we can use [threshold-based sampling](https://arxiv.org/abs/2310.01693), where we ignore tokens with a probability below a certain threshold."
      ]
    },
    {
      "cell_type": "markdown",
      "metadata": {
        "id": "Cc0gdrZKggGc"
      },
      "source": [
        "Here are the sampling techniques we tried, using the [subliminal learning code-base](https://github.com/MinhxLe/subliminal-learning).\n",
        "\n",
        "1. **Nucleus sampling**: Using `top_p = 0.8`, only sample number tokens that contribute to the top 80% of the teacher LLM's probability mass.\n",
        "2. **Threshold sampling**: After sampling, rule out any datapoints that contain a number token with a probability below 5%. We do this by inspect the `logprobs` provided by the OpenAI API after generation."
      ]
    },
    {
      "cell_type": "code",
      "execution_count": null,
      "metadata": {
        "colab": {
          "base_uri": "https://localhost:8080/",
          "height": 542
        },
        "id": "RAR5TrrehWNX",
        "outputId": "d046b222-f03e-4545-ef24-a9b948e8c74e"
      },
      "outputs": [
        {
          "data": {
            "text/html": [
              "<html>\n",
              "<head><meta charset=\"utf-8\" /></head>\n",
              "<body>\n",
              "    <div>            <script src=\"https://cdnjs.cloudflare.com/ajax/libs/mathjax/2.7.5/MathJax.js?config=TeX-AMS-MML_SVG\"></script><script type=\"text/javascript\">if (window.MathJax && window.MathJax.Hub && window.MathJax.Hub.Config) {window.MathJax.Hub.Config({SVG: {font: \"STIX-Web\"}});}</script>                <script type=\"text/javascript\">window.PlotlyConfig = {MathJaxConfig: 'local'};</script>\n",
              "        <script charset=\"utf-8\" src=\"https://cdn.plot.ly/plotly-2.35.2.min.js\"></script>                <div id=\"c78d48f6-b4cb-4b06-8f46-eaabc0e78b17\" class=\"plotly-graph-div\" style=\"height:525px; width:800px;\"></div>            <script type=\"text/javascript\">                                    window.PLOTLYENV=window.PLOTLYENV || {};                                    if (document.getElementById(\"c78d48f6-b4cb-4b06-8f46-eaabc0e78b17\")) {                    Plotly.newPlot(                        \"c78d48f6-b4cb-4b06-8f46-eaabc0e78b17\",                        [{\"alignmentgroup\":\"True\",\"hovertemplate\":\"color=Original (temperature 1.0)\\u003cbr\\u003ex=%{x}\\u003cbr\\u003ey=%{y}\\u003cextra\\u003e\\u003c\\u002fextra\\u003e\",\"legendgroup\":\"Original (temperature 1.0)\",\"marker\":{\"color\":\"rgb(166,216,84)\",\"pattern\":{\"shape\":\"\"}},\"name\":\"Original (temperature 1.0)\",\"offsetgroup\":\"Original (temperature 1.0)\",\"orientation\":\"v\",\"showlegend\":true,\"textposition\":\"outside\",\"x\":[\"Original (temperature 1.0)\"],\"xaxis\":\"x\",\"y\":[0.6],\"yaxis\":\"y\",\"type\":\"bar\",\"texttemplate\":\"%{y:.0%}\"},{\"alignmentgroup\":\"True\",\"hovertemplate\":\"color=Top-p (0.8)\\u003cbr\\u003ex=%{x}\\u003cbr\\u003ey=%{y}\\u003cextra\\u003e\\u003c\\u002fextra\\u003e\",\"legendgroup\":\"Top-p (0.8)\",\"marker\":{\"color\":\"rgb(255,217,47)\",\"pattern\":{\"shape\":\"\"}},\"name\":\"Top-p (0.8)\",\"offsetgroup\":\"Top-p (0.8)\",\"orientation\":\"v\",\"showlegend\":true,\"textposition\":\"outside\",\"x\":[\"Top-p (0.8)\"],\"xaxis\":\"x\",\"y\":[0.49],\"yaxis\":\"y\",\"type\":\"bar\",\"texttemplate\":\"%{y:.0%}\"},{\"alignmentgroup\":\"True\",\"hovertemplate\":\"color=Threshold (0.05)\\u003cbr\\u003ex=%{x}\\u003cbr\\u003ey=%{y}\\u003cextra\\u003e\\u003c\\u002fextra\\u003e\",\"legendgroup\":\"Threshold (0.05)\",\"marker\":{\"color\":\"rgb(229,196,148)\",\"pattern\":{\"shape\":\"\"}},\"name\":\"Threshold (0.05)\",\"offsetgroup\":\"Threshold (0.05)\",\"orientation\":\"v\",\"showlegend\":true,\"textposition\":\"outside\",\"x\":[\"Threshold (0.05)\"],\"xaxis\":\"x\",\"y\":[0.28],\"yaxis\":\"y\",\"type\":\"bar\",\"texttemplate\":\"%{y:.0%}\"},{\"alignmentgroup\":\"True\",\"hovertemplate\":\"color=No fine-tuning (goal)\\u003cbr\\u003ex=%{x}\\u003cbr\\u003ey=%{y}\\u003cextra\\u003e\\u003c\\u002fextra\\u003e\",\"legendgroup\":\"No fine-tuning (goal)\",\"marker\":{\"color\":\"rgb(179,179,179)\",\"pattern\":{\"shape\":\"\"}},\"name\":\"No fine-tuning (goal)\",\"offsetgroup\":\"No fine-tuning (goal)\",\"orientation\":\"v\",\"showlegend\":true,\"textposition\":\"outside\",\"x\":[\"No fine-tuning (goal)\"],\"xaxis\":\"x\",\"y\":[0.12],\"yaxis\":\"y\",\"type\":\"bar\",\"texttemplate\":\"%{y:.0%}\"}],                        {\"template\":{\"data\":{\"barpolar\":[{\"marker\":{\"line\":{\"color\":\"white\",\"width\":0.5},\"pattern\":{\"fillmode\":\"overlay\",\"size\":10,\"solidity\":0.2}},\"type\":\"barpolar\"}],\"bar\":[{\"error_x\":{\"color\":\"rgb(36,36,36)\"},\"error_y\":{\"color\":\"rgb(36,36,36)\"},\"marker\":{\"line\":{\"color\":\"white\",\"width\":0.5},\"pattern\":{\"fillmode\":\"overlay\",\"size\":10,\"solidity\":0.2}},\"type\":\"bar\"}],\"carpet\":[{\"aaxis\":{\"endlinecolor\":\"rgb(36,36,36)\",\"gridcolor\":\"white\",\"linecolor\":\"white\",\"minorgridcolor\":\"white\",\"startlinecolor\":\"rgb(36,36,36)\"},\"baxis\":{\"endlinecolor\":\"rgb(36,36,36)\",\"gridcolor\":\"white\",\"linecolor\":\"white\",\"minorgridcolor\":\"white\",\"startlinecolor\":\"rgb(36,36,36)\"},\"type\":\"carpet\"}],\"choropleth\":[{\"colorbar\":{\"outlinewidth\":1,\"tickcolor\":\"rgb(36,36,36)\",\"ticks\":\"outside\"},\"type\":\"choropleth\"}],\"contourcarpet\":[{\"colorbar\":{\"outlinewidth\":1,\"tickcolor\":\"rgb(36,36,36)\",\"ticks\":\"outside\"},\"type\":\"contourcarpet\"}],\"contour\":[{\"colorbar\":{\"outlinewidth\":1,\"tickcolor\":\"rgb(36,36,36)\",\"ticks\":\"outside\"},\"colorscale\":[[0.0,\"#440154\"],[0.1111111111111111,\"#482878\"],[0.2222222222222222,\"#3e4989\"],[0.3333333333333333,\"#31688e\"],[0.4444444444444444,\"#26828e\"],[0.5555555555555556,\"#1f9e89\"],[0.6666666666666666,\"#35b779\"],[0.7777777777777778,\"#6ece58\"],[0.8888888888888888,\"#b5de2b\"],[1.0,\"#fde725\"]],\"type\":\"contour\"}],\"heatmapgl\":[{\"colorbar\":{\"outlinewidth\":1,\"tickcolor\":\"rgb(36,36,36)\",\"ticks\":\"outside\"},\"colorscale\":[[0.0,\"#440154\"],[0.1111111111111111,\"#482878\"],[0.2222222222222222,\"#3e4989\"],[0.3333333333333333,\"#31688e\"],[0.4444444444444444,\"#26828e\"],[0.5555555555555556,\"#1f9e89\"],[0.6666666666666666,\"#35b779\"],[0.7777777777777778,\"#6ece58\"],[0.8888888888888888,\"#b5de2b\"],[1.0,\"#fde725\"]],\"type\":\"heatmapgl\"}],\"heatmap\":[{\"colorbar\":{\"outlinewidth\":1,\"tickcolor\":\"rgb(36,36,36)\",\"ticks\":\"outside\"},\"colorscale\":[[0.0,\"#440154\"],[0.1111111111111111,\"#482878\"],[0.2222222222222222,\"#3e4989\"],[0.3333333333333333,\"#31688e\"],[0.4444444444444444,\"#26828e\"],[0.5555555555555556,\"#1f9e89\"],[0.6666666666666666,\"#35b779\"],[0.7777777777777778,\"#6ece58\"],[0.8888888888888888,\"#b5de2b\"],[1.0,\"#fde725\"]],\"type\":\"heatmap\"}],\"histogram2dcontour\":[{\"colorbar\":{\"outlinewidth\":1,\"tickcolor\":\"rgb(36,36,36)\",\"ticks\":\"outside\"},\"colorscale\":[[0.0,\"#440154\"],[0.1111111111111111,\"#482878\"],[0.2222222222222222,\"#3e4989\"],[0.3333333333333333,\"#31688e\"],[0.4444444444444444,\"#26828e\"],[0.5555555555555556,\"#1f9e89\"],[0.6666666666666666,\"#35b779\"],[0.7777777777777778,\"#6ece58\"],[0.8888888888888888,\"#b5de2b\"],[1.0,\"#fde725\"]],\"type\":\"histogram2dcontour\"}],\"histogram2d\":[{\"colorbar\":{\"outlinewidth\":1,\"tickcolor\":\"rgb(36,36,36)\",\"ticks\":\"outside\"},\"colorscale\":[[0.0,\"#440154\"],[0.1111111111111111,\"#482878\"],[0.2222222222222222,\"#3e4989\"],[0.3333333333333333,\"#31688e\"],[0.4444444444444444,\"#26828e\"],[0.5555555555555556,\"#1f9e89\"],[0.6666666666666666,\"#35b779\"],[0.7777777777777778,\"#6ece58\"],[0.8888888888888888,\"#b5de2b\"],[1.0,\"#fde725\"]],\"type\":\"histogram2d\"}],\"histogram\":[{\"marker\":{\"line\":{\"color\":\"white\",\"width\":0.6}},\"type\":\"histogram\"}],\"mesh3d\":[{\"colorbar\":{\"outlinewidth\":1,\"tickcolor\":\"rgb(36,36,36)\",\"ticks\":\"outside\"},\"type\":\"mesh3d\"}],\"parcoords\":[{\"line\":{\"colorbar\":{\"outlinewidth\":1,\"tickcolor\":\"rgb(36,36,36)\",\"ticks\":\"outside\"}},\"type\":\"parcoords\"}],\"pie\":[{\"automargin\":true,\"type\":\"pie\"}],\"scatter3d\":[{\"line\":{\"colorbar\":{\"outlinewidth\":1,\"tickcolor\":\"rgb(36,36,36)\",\"ticks\":\"outside\"}},\"marker\":{\"colorbar\":{\"outlinewidth\":1,\"tickcolor\":\"rgb(36,36,36)\",\"ticks\":\"outside\"}},\"type\":\"scatter3d\"}],\"scattercarpet\":[{\"marker\":{\"colorbar\":{\"outlinewidth\":1,\"tickcolor\":\"rgb(36,36,36)\",\"ticks\":\"outside\"}},\"type\":\"scattercarpet\"}],\"scattergeo\":[{\"marker\":{\"colorbar\":{\"outlinewidth\":1,\"tickcolor\":\"rgb(36,36,36)\",\"ticks\":\"outside\"}},\"type\":\"scattergeo\"}],\"scattergl\":[{\"marker\":{\"colorbar\":{\"outlinewidth\":1,\"tickcolor\":\"rgb(36,36,36)\",\"ticks\":\"outside\"}},\"type\":\"scattergl\"}],\"scattermapbox\":[{\"marker\":{\"colorbar\":{\"outlinewidth\":1,\"tickcolor\":\"rgb(36,36,36)\",\"ticks\":\"outside\"}},\"type\":\"scattermapbox\"}],\"scatterpolargl\":[{\"marker\":{\"colorbar\":{\"outlinewidth\":1,\"tickcolor\":\"rgb(36,36,36)\",\"ticks\":\"outside\"}},\"type\":\"scatterpolargl\"}],\"scatterpolar\":[{\"marker\":{\"colorbar\":{\"outlinewidth\":1,\"tickcolor\":\"rgb(36,36,36)\",\"ticks\":\"outside\"}},\"type\":\"scatterpolar\"}],\"scatter\":[{\"fillpattern\":{\"fillmode\":\"overlay\",\"size\":10,\"solidity\":0.2},\"type\":\"scatter\"}],\"scatterternary\":[{\"marker\":{\"colorbar\":{\"outlinewidth\":1,\"tickcolor\":\"rgb(36,36,36)\",\"ticks\":\"outside\"}},\"type\":\"scatterternary\"}],\"surface\":[{\"colorbar\":{\"outlinewidth\":1,\"tickcolor\":\"rgb(36,36,36)\",\"ticks\":\"outside\"},\"colorscale\":[[0.0,\"#440154\"],[0.1111111111111111,\"#482878\"],[0.2222222222222222,\"#3e4989\"],[0.3333333333333333,\"#31688e\"],[0.4444444444444444,\"#26828e\"],[0.5555555555555556,\"#1f9e89\"],[0.6666666666666666,\"#35b779\"],[0.7777777777777778,\"#6ece58\"],[0.8888888888888888,\"#b5de2b\"],[1.0,\"#fde725\"]],\"type\":\"surface\"}],\"table\":[{\"cells\":{\"fill\":{\"color\":\"rgb(237,237,237)\"},\"line\":{\"color\":\"white\"}},\"header\":{\"fill\":{\"color\":\"rgb(217,217,217)\"},\"line\":{\"color\":\"white\"}},\"type\":\"table\"}]},\"layout\":{\"annotationdefaults\":{\"arrowhead\":0,\"arrowwidth\":1},\"autotypenumbers\":\"strict\",\"coloraxis\":{\"colorbar\":{\"outlinewidth\":1,\"tickcolor\":\"rgb(36,36,36)\",\"ticks\":\"outside\"}},\"colorscale\":{\"diverging\":[[0.0,\"rgb(103,0,31)\"],[0.1,\"rgb(178,24,43)\"],[0.2,\"rgb(214,96,77)\"],[0.3,\"rgb(244,165,130)\"],[0.4,\"rgb(253,219,199)\"],[0.5,\"rgb(247,247,247)\"],[0.6,\"rgb(209,229,240)\"],[0.7,\"rgb(146,197,222)\"],[0.8,\"rgb(67,147,195)\"],[0.9,\"rgb(33,102,172)\"],[1.0,\"rgb(5,48,97)\"]],\"sequential\":[[0.0,\"#440154\"],[0.1111111111111111,\"#482878\"],[0.2222222222222222,\"#3e4989\"],[0.3333333333333333,\"#31688e\"],[0.4444444444444444,\"#26828e\"],[0.5555555555555556,\"#1f9e89\"],[0.6666666666666666,\"#35b779\"],[0.7777777777777778,\"#6ece58\"],[0.8888888888888888,\"#b5de2b\"],[1.0,\"#fde725\"]],\"sequentialminus\":[[0.0,\"#440154\"],[0.1111111111111111,\"#482878\"],[0.2222222222222222,\"#3e4989\"],[0.3333333333333333,\"#31688e\"],[0.4444444444444444,\"#26828e\"],[0.5555555555555556,\"#1f9e89\"],[0.6666666666666666,\"#35b779\"],[0.7777777777777778,\"#6ece58\"],[0.8888888888888888,\"#b5de2b\"],[1.0,\"#fde725\"]]},\"colorway\":[\"#1F77B4\",\"#FF7F0E\",\"#2CA02C\",\"#D62728\",\"#9467BD\",\"#8C564B\",\"#E377C2\",\"#7F7F7F\",\"#BCBD22\",\"#17BECF\"],\"font\":{\"color\":\"rgb(36,36,36)\"},\"geo\":{\"bgcolor\":\"white\",\"lakecolor\":\"white\",\"landcolor\":\"white\",\"showlakes\":true,\"showland\":true,\"subunitcolor\":\"white\"},\"hoverlabel\":{\"align\":\"left\"},\"hovermode\":\"closest\",\"mapbox\":{\"style\":\"light\"},\"paper_bgcolor\":\"white\",\"plot_bgcolor\":\"white\",\"polar\":{\"angularaxis\":{\"gridcolor\":\"rgb(232,232,232)\",\"linecolor\":\"rgb(36,36,36)\",\"showgrid\":false,\"showline\":true,\"ticks\":\"outside\"},\"bgcolor\":\"white\",\"radialaxis\":{\"gridcolor\":\"rgb(232,232,232)\",\"linecolor\":\"rgb(36,36,36)\",\"showgrid\":false,\"showline\":true,\"ticks\":\"outside\"}},\"scene\":{\"xaxis\":{\"backgroundcolor\":\"white\",\"gridcolor\":\"rgb(232,232,232)\",\"gridwidth\":2,\"linecolor\":\"rgb(36,36,36)\",\"showbackground\":true,\"showgrid\":false,\"showline\":true,\"ticks\":\"outside\",\"zeroline\":false,\"zerolinecolor\":\"rgb(36,36,36)\"},\"yaxis\":{\"backgroundcolor\":\"white\",\"gridcolor\":\"rgb(232,232,232)\",\"gridwidth\":2,\"linecolor\":\"rgb(36,36,36)\",\"showbackground\":true,\"showgrid\":false,\"showline\":true,\"ticks\":\"outside\",\"zeroline\":false,\"zerolinecolor\":\"rgb(36,36,36)\"},\"zaxis\":{\"backgroundcolor\":\"white\",\"gridcolor\":\"rgb(232,232,232)\",\"gridwidth\":2,\"linecolor\":\"rgb(36,36,36)\",\"showbackground\":true,\"showgrid\":false,\"showline\":true,\"ticks\":\"outside\",\"zeroline\":false,\"zerolinecolor\":\"rgb(36,36,36)\"}},\"shapedefaults\":{\"fillcolor\":\"black\",\"line\":{\"width\":0},\"opacity\":0.3},\"ternary\":{\"aaxis\":{\"gridcolor\":\"rgb(232,232,232)\",\"linecolor\":\"rgb(36,36,36)\",\"showgrid\":false,\"showline\":true,\"ticks\":\"outside\"},\"baxis\":{\"gridcolor\":\"rgb(232,232,232)\",\"linecolor\":\"rgb(36,36,36)\",\"showgrid\":false,\"showline\":true,\"ticks\":\"outside\"},\"bgcolor\":\"white\",\"caxis\":{\"gridcolor\":\"rgb(232,232,232)\",\"linecolor\":\"rgb(36,36,36)\",\"showgrid\":false,\"showline\":true,\"ticks\":\"outside\"}},\"title\":{\"x\":0.05},\"xaxis\":{\"automargin\":true,\"gridcolor\":\"rgb(232,232,232)\",\"linecolor\":\"rgb(36,36,36)\",\"showgrid\":false,\"showline\":true,\"ticks\":\"outside\",\"title\":{\"standoff\":15},\"zeroline\":false,\"zerolinecolor\":\"rgb(36,36,36)\"},\"yaxis\":{\"automargin\":true,\"gridcolor\":\"rgb(232,232,232)\",\"linecolor\":\"rgb(36,36,36)\",\"showgrid\":false,\"showline\":true,\"ticks\":\"outside\",\"title\":{\"standoff\":15},\"zeroline\":false,\"zerolinecolor\":\"rgb(36,36,36)\"}}},\"xaxis\":{\"anchor\":\"y\",\"domain\":[0.0,1.0],\"title\":{\"text\":\"How we sample from teacher LLM\"}},\"yaxis\":{\"anchor\":\"x\",\"domain\":[0.0,1.0],\"title\":{\"text\":\"Probability of \\\"owl\\\"\"}},\"legend\":{\"title\":{\"text\":\"color\"},\"tracegroupgap\":0},\"margin\":{\"t\":60},\"barmode\":\"relative\",\"width\":800,\"showlegend\":false},                        {\"responsive\": true}                    ).then(function(){\n",
              "                            \n",
              "var gd = document.getElementById('c78d48f6-b4cb-4b06-8f46-eaabc0e78b17');\n",
              "var x = new MutationObserver(function (mutations, observer) {{\n",
              "        var display = window.getComputedStyle(gd).display;\n",
              "        if (!display || display === 'none') {{\n",
              "            console.log([gd, 'removed!']);\n",
              "            Plotly.purge(gd);\n",
              "            observer.disconnect();\n",
              "        }}\n",
              "}});\n",
              "\n",
              "// Listen for the removal of the full notebook cells\n",
              "var notebookContainer = gd.closest('#notebook-container');\n",
              "if (notebookContainer) {{\n",
              "    x.observe(notebookContainer, {childList: true});\n",
              "}}\n",
              "\n",
              "// Listen for the clearing of the current output cell\n",
              "var outputEl = gd.closest('.output');\n",
              "if (outputEl) {{\n",
              "    x.observe(outputEl, {childList: true});\n",
              "}}\n",
              "\n",
              "                        })                };                            </script>        </div>\n",
              "</body>\n",
              "</html>"
            ]
          },
          "metadata": {},
          "output_type": "display_data"
        }
      ],
      "source": [
        "import plotly\n",
        "import plotly.express as px\n",
        "\n",
        "fig = px.bar(\n",
        "    x=['Original (temperature 1.0)', 'Top-p (0.8)', 'Threshold (0.05)', 'No fine-tuning (goal)'],\n",
        "    y=[\n",
        "        0.60, # from original paper\n",
        "        0.49,\n",
        "        0.28,\n",
        "        0.12 # from original paper\n",
        "    ],\n",
        "    color=['Original (temperature 1.0)', 'Top-p (0.8)', 'Threshold (0.05)', 'No fine-tuning (goal)'],\n",
        "    template='simple_white',\n",
        "    color_discrete_sequence=plotly.colors.qualitative.Set2[-4:],\n",
        "    width=800,\n",
        ")\n",
        "\n",
        "fig.update_traces(texttemplate='%{y:.0%}', textposition='outside')\n",
        "\n",
        "fig.update_yaxes(title='Probability of \\\"owl\\\"')\n",
        "fig.update_xaxes(title=\"How we sample from teacher LLM\")\n",
        "fig.update_layout(showlegend=False)\n",
        "\n",
        "fig.show()"
      ]
    }
  ],
  "metadata": {
    "accelerator": "GPU",
    "colab": {
      "collapsed_sections": [
        "q5VV1F78Ug5_",
        "LYBcbCLWOTYl",
        "leK5P121iU1C"
      ],
      "gpuType": "T4",
      "machine_shape": "hm",
      "provenance": []
    },
    "kernelspec": {
      "display_name": ".venv",
      "language": "python",
      "name": "python3"
    },
    "language_info": {
      "name": "python",
      "version": "3.12.9"
    },
    "widgets": {
      "application/vnd.jupyter.widget-state+json": {
        "09a0b071a1e84115bed21e6b1bdb5979": {
          "model_module": "@jupyter-widgets/controls",
          "model_module_version": "1.5.0",
          "model_name": "DescriptionStyleModel",
          "state": {
            "_model_module": "@jupyter-widgets/controls",
            "_model_module_version": "1.5.0",
            "_model_name": "DescriptionStyleModel",
            "_view_count": null,
            "_view_module": "@jupyter-widgets/base",
            "_view_module_version": "1.2.0",
            "_view_name": "StyleView",
            "description_width": ""
          }
        },
        "0cbf1facbaec4eccbfd92dbd345d0644": {
          "model_module": "@jupyter-widgets/base",
          "model_module_version": "1.2.0",
          "model_name": "LayoutModel",
          "state": {
            "_model_module": "@jupyter-widgets/base",
            "_model_module_version": "1.2.0",
            "_model_name": "LayoutModel",
            "_view_count": null,
            "_view_module": "@jupyter-widgets/base",
            "_view_module_version": "1.2.0",
            "_view_name": "LayoutView",
            "align_content": null,
            "align_items": null,
            "align_self": null,
            "border": null,
            "bottom": null,
            "display": null,
            "flex": null,
            "flex_flow": null,
            "grid_area": null,
            "grid_auto_columns": null,
            "grid_auto_flow": null,
            "grid_auto_rows": null,
            "grid_column": null,
            "grid_gap": null,
            "grid_row": null,
            "grid_template_areas": null,
            "grid_template_columns": null,
            "grid_template_rows": null,
            "height": null,
            "justify_content": null,
            "justify_items": null,
            "left": null,
            "margin": null,
            "max_height": null,
            "max_width": null,
            "min_height": null,
            "min_width": null,
            "object_fit": null,
            "object_position": null,
            "order": null,
            "overflow": null,
            "overflow_x": null,
            "overflow_y": null,
            "padding": null,
            "right": null,
            "top": null,
            "visibility": null,
            "width": null
          }
        },
        "2d4cd716491d404db8ba9eb56f122fde": {
          "model_module": "@jupyter-widgets/base",
          "model_module_version": "1.2.0",
          "model_name": "LayoutModel",
          "state": {
            "_model_module": "@jupyter-widgets/base",
            "_model_module_version": "1.2.0",
            "_model_name": "LayoutModel",
            "_view_count": null,
            "_view_module": "@jupyter-widgets/base",
            "_view_module_version": "1.2.0",
            "_view_name": "LayoutView",
            "align_content": null,
            "align_items": "center",
            "align_self": null,
            "border": null,
            "bottom": null,
            "display": "flex",
            "flex": null,
            "flex_flow": "column",
            "grid_area": null,
            "grid_auto_columns": null,
            "grid_auto_flow": null,
            "grid_auto_rows": null,
            "grid_column": null,
            "grid_gap": null,
            "grid_row": null,
            "grid_template_areas": null,
            "grid_template_columns": null,
            "grid_template_rows": null,
            "height": null,
            "justify_content": null,
            "justify_items": null,
            "left": null,
            "margin": null,
            "max_height": null,
            "max_width": null,
            "min_height": null,
            "min_width": null,
            "object_fit": null,
            "object_position": null,
            "order": null,
            "overflow": null,
            "overflow_x": null,
            "overflow_y": null,
            "padding": null,
            "right": null,
            "top": null,
            "visibility": null,
            "width": "50%"
          }
        },
        "4617f65339cb4d699d3d50085a83ae2a": {
          "model_module": "@jupyter-widgets/base",
          "model_module_version": "1.2.0",
          "model_name": "LayoutModel",
          "state": {
            "_model_module": "@jupyter-widgets/base",
            "_model_module_version": "1.2.0",
            "_model_name": "LayoutModel",
            "_view_count": null,
            "_view_module": "@jupyter-widgets/base",
            "_view_module_version": "1.2.0",
            "_view_name": "LayoutView",
            "align_content": null,
            "align_items": null,
            "align_self": null,
            "border": null,
            "bottom": null,
            "display": null,
            "flex": null,
            "flex_flow": null,
            "grid_area": null,
            "grid_auto_columns": null,
            "grid_auto_flow": null,
            "grid_auto_rows": null,
            "grid_column": null,
            "grid_gap": null,
            "grid_row": null,
            "grid_template_areas": null,
            "grid_template_columns": null,
            "grid_template_rows": null,
            "height": null,
            "justify_content": null,
            "justify_items": null,
            "left": null,
            "margin": null,
            "max_height": null,
            "max_width": null,
            "min_height": null,
            "min_width": null,
            "object_fit": null,
            "object_position": null,
            "order": null,
            "overflow": null,
            "overflow_x": null,
            "overflow_y": null,
            "padding": null,
            "right": null,
            "top": null,
            "visibility": null,
            "width": null
          }
        },
        "53921082759245ee86f1ad3b1a9623c4": {
          "model_module": "@jupyter-widgets/base",
          "model_module_version": "1.2.0",
          "model_name": "LayoutModel",
          "state": {
            "_model_module": "@jupyter-widgets/base",
            "_model_module_version": "1.2.0",
            "_model_name": "LayoutModel",
            "_view_count": null,
            "_view_module": "@jupyter-widgets/base",
            "_view_module_version": "1.2.0",
            "_view_name": "LayoutView",
            "align_content": null,
            "align_items": null,
            "align_self": null,
            "border": null,
            "bottom": null,
            "display": null,
            "flex": null,
            "flex_flow": null,
            "grid_area": null,
            "grid_auto_columns": null,
            "grid_auto_flow": null,
            "grid_auto_rows": null,
            "grid_column": null,
            "grid_gap": null,
            "grid_row": null,
            "grid_template_areas": null,
            "grid_template_columns": null,
            "grid_template_rows": null,
            "height": null,
            "justify_content": null,
            "justify_items": null,
            "left": null,
            "margin": null,
            "max_height": null,
            "max_width": null,
            "min_height": null,
            "min_width": null,
            "object_fit": null,
            "object_position": null,
            "order": null,
            "overflow": null,
            "overflow_x": null,
            "overflow_y": null,
            "padding": null,
            "right": null,
            "top": null,
            "visibility": null,
            "width": null
          }
        },
        "5878d20a7ee343a296497b36de4ae4cd": {
          "model_module": "@jupyter-widgets/controls",
          "model_module_version": "1.5.0",
          "model_name": "ButtonModel",
          "state": {
            "_dom_classes": [],
            "_model_module": "@jupyter-widgets/controls",
            "_model_module_version": "1.5.0",
            "_model_name": "ButtonModel",
            "_view_count": null,
            "_view_module": "@jupyter-widgets/controls",
            "_view_module_version": "1.5.0",
            "_view_name": "ButtonView",
            "button_style": "",
            "description": "Login",
            "disabled": false,
            "icon": "",
            "layout": "IPY_MODEL_53921082759245ee86f1ad3b1a9623c4",
            "style": "IPY_MODEL_d51e0ea0302b43ab845b5e28c86e33b2",
            "tooltip": ""
          }
        },
        "635cd54a39314e0ba58bc6e8911a3f5d": {
          "model_module": "@jupyter-widgets/base",
          "model_module_version": "1.2.0",
          "model_name": "LayoutModel",
          "state": {
            "_model_module": "@jupyter-widgets/base",
            "_model_module_version": "1.2.0",
            "_model_name": "LayoutModel",
            "_view_count": null,
            "_view_module": "@jupyter-widgets/base",
            "_view_module_version": "1.2.0",
            "_view_name": "LayoutView",
            "align_content": null,
            "align_items": null,
            "align_self": null,
            "border": null,
            "bottom": null,
            "display": null,
            "flex": null,
            "flex_flow": null,
            "grid_area": null,
            "grid_auto_columns": null,
            "grid_auto_flow": null,
            "grid_auto_rows": null,
            "grid_column": null,
            "grid_gap": null,
            "grid_row": null,
            "grid_template_areas": null,
            "grid_template_columns": null,
            "grid_template_rows": null,
            "height": null,
            "justify_content": null,
            "justify_items": null,
            "left": null,
            "margin": null,
            "max_height": null,
            "max_width": null,
            "min_height": null,
            "min_width": null,
            "object_fit": null,
            "object_position": null,
            "order": null,
            "overflow": null,
            "overflow_x": null,
            "overflow_y": null,
            "padding": null,
            "right": null,
            "top": null,
            "visibility": null,
            "width": null
          }
        },
        "77a154bc0c634741a876e9e9dc502cfc": {
          "model_module": "@jupyter-widgets/controls",
          "model_module_version": "1.5.0",
          "model_name": "HTMLModel",
          "state": {
            "_dom_classes": [],
            "_model_module": "@jupyter-widgets/controls",
            "_model_module_version": "1.5.0",
            "_model_name": "HTMLModel",
            "_view_count": null,
            "_view_module": "@jupyter-widgets/controls",
            "_view_module_version": "1.5.0",
            "_view_name": "HTMLView",
            "description": "",
            "description_tooltip": null,
            "layout": "IPY_MODEL_ecd3053e3d1840a09988479938817941",
            "placeholder": "​",
            "style": "IPY_MODEL_fa45c25f7b984d51951134b312491c51",
            "value": "<center> <img\nsrc=https://huggingface.co/front/assets/huggingface_logo-noborder.svg\nalt='Hugging Face'> <br> Copy a token from <a\nhref=\"https://huggingface.co/settings/tokens\" target=\"_blank\">your Hugging Face\ntokens page</a> and paste it below. <br> Immediately click login after copying\nyour token or it might be stored in plain text in this notebook file. </center>"
          }
        },
        "a092e2d4f9f343009c2b2e89085f2c71": {
          "model_module": "@jupyter-widgets/controls",
          "model_module_version": "1.5.0",
          "model_name": "HTMLModel",
          "state": {
            "_dom_classes": [],
            "_model_module": "@jupyter-widgets/controls",
            "_model_module_version": "1.5.0",
            "_model_name": "HTMLModel",
            "_view_count": null,
            "_view_module": "@jupyter-widgets/controls",
            "_view_module_version": "1.5.0",
            "_view_name": "HTMLView",
            "description": "",
            "description_tooltip": null,
            "layout": "IPY_MODEL_4617f65339cb4d699d3d50085a83ae2a",
            "placeholder": "​",
            "style": "IPY_MODEL_a67e94f99f964b76beae8327c1954fa2",
            "value": "\n<b>Pro Tip:</b> If you don't already have one, you can create a dedicated\n'notebooks' token with 'write' access, that you can then easily reuse for all\nnotebooks. </center>"
          }
        },
        "a67e94f99f964b76beae8327c1954fa2": {
          "model_module": "@jupyter-widgets/controls",
          "model_module_version": "1.5.0",
          "model_name": "DescriptionStyleModel",
          "state": {
            "_model_module": "@jupyter-widgets/controls",
            "_model_module_version": "1.5.0",
            "_model_name": "DescriptionStyleModel",
            "_view_count": null,
            "_view_module": "@jupyter-widgets/base",
            "_view_module_version": "1.2.0",
            "_view_name": "StyleView",
            "description_width": ""
          }
        },
        "b553161c925c46db9cbd40a9ff58b287": {
          "model_module": "@jupyter-widgets/controls",
          "model_module_version": "1.5.0",
          "model_name": "DescriptionStyleModel",
          "state": {
            "_model_module": "@jupyter-widgets/controls",
            "_model_module_version": "1.5.0",
            "_model_name": "DescriptionStyleModel",
            "_view_count": null,
            "_view_module": "@jupyter-widgets/base",
            "_view_module_version": "1.2.0",
            "_view_name": "StyleView",
            "description_width": ""
          }
        },
        "d1c17b7e3a7b4729975c35dabe0a48b1": {
          "model_module": "@jupyter-widgets/controls",
          "model_module_version": "1.5.0",
          "model_name": "VBoxModel",
          "state": {
            "_dom_classes": [],
            "_model_module": "@jupyter-widgets/controls",
            "_model_module_version": "1.5.0",
            "_model_name": "VBoxModel",
            "_view_count": null,
            "_view_module": "@jupyter-widgets/controls",
            "_view_module_version": "1.5.0",
            "_view_name": "VBoxView",
            "box_style": "",
            "children": [
              "IPY_MODEL_77a154bc0c634741a876e9e9dc502cfc",
              "IPY_MODEL_db175996d10b4fcbbd70c837a0bcf679",
              "IPY_MODEL_e86e9ee28b8a4288963c340a63334fe8",
              "IPY_MODEL_5878d20a7ee343a296497b36de4ae4cd",
              "IPY_MODEL_a092e2d4f9f343009c2b2e89085f2c71"
            ],
            "layout": "IPY_MODEL_2d4cd716491d404db8ba9eb56f122fde"
          }
        },
        "d51e0ea0302b43ab845b5e28c86e33b2": {
          "model_module": "@jupyter-widgets/controls",
          "model_module_version": "1.5.0",
          "model_name": "ButtonStyleModel",
          "state": {
            "_model_module": "@jupyter-widgets/controls",
            "_model_module_version": "1.5.0",
            "_model_name": "ButtonStyleModel",
            "_view_count": null,
            "_view_module": "@jupyter-widgets/base",
            "_view_module_version": "1.2.0",
            "_view_name": "StyleView",
            "button_color": null,
            "font_weight": ""
          }
        },
        "db175996d10b4fcbbd70c837a0bcf679": {
          "model_module": "@jupyter-widgets/controls",
          "model_module_version": "1.5.0",
          "model_name": "PasswordModel",
          "state": {
            "_dom_classes": [],
            "_model_module": "@jupyter-widgets/controls",
            "_model_module_version": "1.5.0",
            "_model_name": "PasswordModel",
            "_view_count": null,
            "_view_module": "@jupyter-widgets/controls",
            "_view_module_version": "1.5.0",
            "_view_name": "PasswordView",
            "continuous_update": true,
            "description": "Token:",
            "description_tooltip": null,
            "disabled": false,
            "layout": "IPY_MODEL_635cd54a39314e0ba58bc6e8911a3f5d",
            "placeholder": "​",
            "style": "IPY_MODEL_09a0b071a1e84115bed21e6b1bdb5979",
            "value": ""
          }
        },
        "e86e9ee28b8a4288963c340a63334fe8": {
          "model_module": "@jupyter-widgets/controls",
          "model_module_version": "1.5.0",
          "model_name": "CheckboxModel",
          "state": {
            "_dom_classes": [],
            "_model_module": "@jupyter-widgets/controls",
            "_model_module_version": "1.5.0",
            "_model_name": "CheckboxModel",
            "_view_count": null,
            "_view_module": "@jupyter-widgets/controls",
            "_view_module_version": "1.5.0",
            "_view_name": "CheckboxView",
            "description": "Add token as git credential?",
            "description_tooltip": null,
            "disabled": false,
            "indent": true,
            "layout": "IPY_MODEL_0cbf1facbaec4eccbfd92dbd345d0644",
            "style": "IPY_MODEL_b553161c925c46db9cbd40a9ff58b287",
            "value": true
          }
        },
        "ecd3053e3d1840a09988479938817941": {
          "model_module": "@jupyter-widgets/base",
          "model_module_version": "1.2.0",
          "model_name": "LayoutModel",
          "state": {
            "_model_module": "@jupyter-widgets/base",
            "_model_module_version": "1.2.0",
            "_model_name": "LayoutModel",
            "_view_count": null,
            "_view_module": "@jupyter-widgets/base",
            "_view_module_version": "1.2.0",
            "_view_name": "LayoutView",
            "align_content": null,
            "align_items": null,
            "align_self": null,
            "border": null,
            "bottom": null,
            "display": null,
            "flex": null,
            "flex_flow": null,
            "grid_area": null,
            "grid_auto_columns": null,
            "grid_auto_flow": null,
            "grid_auto_rows": null,
            "grid_column": null,
            "grid_gap": null,
            "grid_row": null,
            "grid_template_areas": null,
            "grid_template_columns": null,
            "grid_template_rows": null,
            "height": null,
            "justify_content": null,
            "justify_items": null,
            "left": null,
            "margin": null,
            "max_height": null,
            "max_width": null,
            "min_height": null,
            "min_width": null,
            "object_fit": null,
            "object_position": null,
            "order": null,
            "overflow": null,
            "overflow_x": null,
            "overflow_y": null,
            "padding": null,
            "right": null,
            "top": null,
            "visibility": null,
            "width": null
          }
        },
        "fa45c25f7b984d51951134b312491c51": {
          "model_module": "@jupyter-widgets/controls",
          "model_module_version": "1.5.0",
          "model_name": "DescriptionStyleModel",
          "state": {
            "_model_module": "@jupyter-widgets/controls",
            "_model_module_version": "1.5.0",
            "_model_name": "DescriptionStyleModel",
            "_view_count": null,
            "_view_module": "@jupyter-widgets/base",
            "_view_module_version": "1.2.0",
            "_view_name": "StyleView",
            "description_width": ""
          }
        }
      }
    }
  },
  "nbformat": 4,
  "nbformat_minor": 0
}
